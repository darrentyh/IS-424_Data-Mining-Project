{
 "cells": [
  {
   "cell_type": "code",
   "execution_count": 11,
   "metadata": {},
   "outputs": [],
   "source": [
    "import pandas as pd\n",
    "import sklearn\n",
    "from sklearn import datasets, linear_model\n",
    "from sklearn.model_selection import train_test_split\n",
    "from matplotlib import pyplot as plt\n",
    "import numpy as np\n",
    "import math\n",
    "from sklearn import metrics\n",
    "from imblearn.over_sampling import SMOTE\n",
    "from imblearn.under_sampling import CondensedNearestNeighbour\n",
    "from sklearn.utils import resample\n",
    "from sklearn.model_selection import GridSearchCV\n",
    "# from mlxtend.classifier import SoftmaxRegression"
   ]
  },
  {
   "cell_type": "code",
   "execution_count": 12,
   "metadata": {},
   "outputs": [
    {
     "data": {
      "text/plain": [
       "0    88872\n",
       "1    11571\n",
       "2     4856\n",
       "3     3439\n",
       "Name: accepted/rejected, dtype: int64"
      ]
     },
     "execution_count": 12,
     "metadata": {},
     "output_type": "execute_result"
    }
   ],
   "source": [
    "# Load the dataset\n",
    "data = pd.read_csv(\"cleaned_data/cleaned_asylum_seekers_added.csv\")\n",
    "addition = pd.read_csv('cleaned_data/cleaned_asylum_seekers.csv')\n",
    "data = data[data['HDI'] != '..']\n",
    "data['HDI'] = data['HDI'].astype('float64')\n",
    "data = data.dropna()\n",
    "data = data[data['origin_to_target_dist'] != 0]\n",
    "decimals = 2    \n",
    "data['Unemployment rate'] = data['Unemployment rate'].apply(lambda x: round(x, decimals))\n",
    "data['origin_to_target_dist'] = data['origin_to_target_dist'].apply(lambda x: round(x, decimals))\n",
    "data['Total Applications'] = addition['Applied during year']\n",
    "data['sq_GDP_difference'] = data['GDP_difference'].apply(lambda x: x**2 )\n",
    "data['lg_origin_to_target_dist'] = data['origin_to_target_dist'].apply(lambda x: math.log(abs(x)))\n",
    "data['lg_GDP_difference'] = data['GDP_difference'].apply(lambda x: math.log(abs(x)))\n",
    "data['lg_tcgpc'] = data['Target_country_GDP_per_capita'].apply(lambda x: math.log(abs(x)))\n",
    "data['lg_ocgpc'] = data['Origin_country_GDP_per_capita'].apply(lambda x: math.log(abs(x)))\n",
    "# data['capacity'] = data['']\n",
    "data['accepted/rejected'].value_counts() "
   ]
  },
  {
   "cell_type": "markdown",
   "metadata": {},
   "source": [
    "### Multinomial Logistic Regression"
   ]
  },
  {
   "cell_type": "markdown",
   "metadata": {},
   "source": [
    "#### Softmax Implementation"
   ]
  },
  {
   "cell_type": "code",
   "execution_count": 13,
   "metadata": {},
   "outputs": [
    {
     "name": "stdout",
     "output_type": "stream",
     "text": [
      "['Year' 'Country / territory of asylum/residence' 'Origin'\n",
      " 'RSD procedure type / level' 'decisions_recognized' 'decisions_other'\n",
      " 'Rejected' 'Otherwise_closed' 'Total decisions' 'Successful'\n",
      " 'Unsuccessful' 'Target_country_GDP_per_capita'\n",
      " 'Origin_country_GDP_per_capita' 'GDP_difference' 'Target_latitude'\n",
      " 'Target_longitude' 'Origin_latitude' 'Origin_longitude'\n",
      " 'origin_to_target_dist' 'HDI' 'Unemployment rate' 'acceptance_rate'\n",
      " 'accepted/rejected' 'Encoded procedure type' 'Encoded Target Country'\n",
      " 'Encoded Origin' 'Total Applications' 'sq_GDP_difference'\n",
      " 'lg_origin_to_target_dist' 'lg_GDP_difference' 'lg_tcgpc' 'lg_ocgpc']\n"
     ]
    }
   ],
   "source": [
    "print(data.columns.values)"
   ]
  },
  {
   "cell_type": "code",
   "execution_count": 14,
   "metadata": {},
   "outputs": [
    {
     "name": "stdout",
     "output_type": "stream",
     "text": [
      "Accuracy: 0.40872723928637117\n",
      "              precision    recall  f1-score   support\n",
      "\n",
      "           0       0.44      0.86      0.58      9113\n",
      "           1       0.28      0.13      0.18      4935\n",
      "           2       0.18      0.06      0.09      3085\n",
      "           3       0.35      0.05      0.09      4615\n",
      "\n",
      "    accuracy                           0.41     21748\n",
      "   macro avg       0.31      0.27      0.23     21748\n",
      "weighted avg       0.35      0.41      0.32     21748\n",
      "\n",
      "[[7821  781  314  197]\n",
      " [3895  648  268  124]\n",
      " [2371  415  176  123]\n",
      " [3688  470  213  244]]\n"
     ]
    }
   ],
   "source": [
    "x = data[['Unemployment rate', 'lg_ocgpc', 'HDI']]\n",
    "y = data['accepted/rejected']\n",
    "\n",
    "# smote = SMOTE('not majority')\n",
    "x_train, x_test, y_train, y_test = train_test_split(x, y, test_size=0.2,stratify=y)\n",
    "# print(y0_test.value_counts())\n",
    "# x0_sm, y0_sm = smote.fit_resample(x0_train, y0_train)\n",
    "# print(len(y0_sm))\n",
    "# print (x0_train.shape, y0_train.shape)\n",
    "# print(x0.shape, y0.shape)\n",
    "clf = linear_model.LogisticRegression(C=1000,solver='lbfgs',class_weight='balanced', multi_class='multinomial', max_iter=1000)\n",
    "clf.fit(x_train, y_train)\n",
    "y_pred=clf.predict(x_test)\n",
    "print('Accuracy:', clf.score(x_test,y_test))\n",
    "print(metrics.classification_report(y_pred, y_test))\n",
    "print(metrics.confusion_matrix(y_pred,y_test, labels=[0,1,2,3]))\n",
    "output = pd.DataFrame([y_pred, y_test])"
   ]
  },
  {
   "cell_type": "markdown",
   "metadata": {},
   "source": [
    "### One vs All"
   ]
  },
  {
   "cell_type": "markdown",
   "metadata": {},
   "source": [
    "#### Really Low Chance (0)"
   ]
  },
  {
   "cell_type": "code",
   "execution_count": 15,
   "metadata": {},
   "outputs": [
    {
     "name": "stdout",
     "output_type": "stream",
     "text": [
      "['Year' 'Country / territory of asylum/residence' 'Origin'\n",
      " 'RSD procedure type / level' 'decisions_recognized' 'decisions_other'\n",
      " 'Rejected' 'Otherwise_closed' 'Total decisions' 'Successful'\n",
      " 'Unsuccessful' 'Target_country_GDP_per_capita'\n",
      " 'Origin_country_GDP_per_capita' 'GDP_difference' 'Target_latitude'\n",
      " 'Target_longitude' 'Origin_latitude' 'Origin_longitude'\n",
      " 'origin_to_target_dist' 'HDI' 'Unemployment rate' 'acceptance_rate'\n",
      " 'accepted/rejected' 'Encoded procedure type' 'Encoded Target Country'\n",
      " 'Encoded Origin' 'Total Applications' 'sq_GDP_difference'\n",
      " 'lg_origin_to_target_dist' 'lg_GDP_difference' 'lg_tcgpc' 'lg_ocgpc']\n"
     ]
    }
   ],
   "source": [
    "print(data.columns.values)"
   ]
  },
  {
   "cell_type": "code",
   "execution_count": 35,
   "metadata": {},
   "outputs": [
    {
     "name": "stdout",
     "output_type": "stream",
     "text": [
      "Accuracy: 0.5579823432039728\n",
      "              precision    recall  f1-score   support\n",
      "\n",
      "           0       0.45      0.19      0.27      9196\n",
      "           1       0.58      0.83      0.68     12552\n",
      "\n",
      "    accuracy                           0.56     21748\n",
      "   macro avg       0.52      0.51      0.48     21748\n",
      "weighted avg       0.53      0.56      0.51     21748\n",
      "\n",
      "[[ 1778  7418]\n",
      " [ 2195 10357]]\n"
     ]
    }
   ],
   "source": [
    "x0 = data[['Unemployment rate', 'origin_to_target_dist','Encoded procedure type']]\n",
    "y0 = data['accepted/rejected'].apply(lambda x:1 if x == 0 else 0)\n",
    "\n",
    "# smote = SMOTE('not majority')\n",
    "x0_train, x0_test, y0_train, y0_test = train_test_split(x0, y0, test_size=0.2,stratify=y0)\n",
    "# print(y0_test.value_counts())\n",
    "# x0_sm, y0_sm = smote.fit_resample(x0_train, y0_train)\n",
    "# print(len(y0_sm))\n",
    "# print (x0_train.shape, y0_train.shape)\n",
    "# print(x0.shape, y0.shape)\n",
    "clf0 = linear_model.LogisticRegression(C=10, solver='lbfgs',class_weight='balanced')\n",
    "clf0.fit(x0_train, y0_train)\n",
    "y0_pred=clf0.predict(x0_test)\n",
    "print('Accuracy:', clf0.score(x0_test,y0_test))\n",
    "print(metrics.classification_report(y0_pred, y0_test))\n",
    "print(metrics.confusion_matrix(y0_pred,y0_test, labels=[0,1]))\n",
    "output0 = pd.DataFrame([y0_pred, y0_test])"
   ]
  },
  {
   "cell_type": "markdown",
   "metadata": {},
   "source": [
    "#### Low Chance (1)"
   ]
  },
  {
   "cell_type": "code",
   "execution_count": 17,
   "metadata": {},
   "outputs": [
    {
     "name": "stdout",
     "output_type": "stream",
     "text": [
      "['Year' 'Country / territory of asylum/residence' 'Origin'\n",
      " 'RSD procedure type / level' 'decisions_recognized' 'decisions_other'\n",
      " 'Rejected' 'Otherwise_closed' 'Total decisions' 'Successful'\n",
      " 'Unsuccessful' 'Target_country_GDP_per_capita'\n",
      " 'Origin_country_GDP_per_capita' 'GDP_difference' 'Target_latitude'\n",
      " 'Target_longitude' 'Origin_latitude' 'Origin_longitude'\n",
      " 'origin_to_target_dist' 'HDI' 'Unemployment rate' 'acceptance_rate'\n",
      " 'accepted/rejected' 'Encoded procedure type' 'Encoded Target Country'\n",
      " 'Encoded Origin' 'Total Applications' 'sq_GDP_difference'\n",
      " 'lg_origin_to_target_dist' 'lg_GDP_difference' 'lg_tcgpc' 'lg_ocgpc']\n"
     ]
    }
   ],
   "source": [
    "print(data.columns.values)"
   ]
  },
  {
   "cell_type": "code",
   "execution_count": 36,
   "metadata": {},
   "outputs": [
    {
     "name": "stdout",
     "output_type": "stream",
     "text": [
      "0    97167\n",
      "1    11571\n",
      "Name: accepted/rejected, dtype: int64\n",
      "Accuracy: 0.6126080559131875\n",
      "              precision    recall  f1-score   support\n",
      "\n",
      "           0       0.63      0.90      0.75     13661\n",
      "           1       0.43      0.12      0.19      8087\n",
      "\n",
      "    accuracy                           0.61     21748\n",
      "   macro avg       0.53      0.51      0.47     21748\n",
      "weighted avg       0.56      0.61      0.54     21748\n",
      "\n",
      "[[12335  1326]\n",
      " [ 7099   988]]\n"
     ]
    }
   ],
   "source": [
    "x1 = data[['Unemployment rate', 'origin_to_target_dist', 'Encoded procedure type']]\n",
    "y1 = data['accepted/rejected'].apply(lambda x:1 if x == 1 else 0)\n",
    "print(y1.value_counts())\n",
    "smote = SMOTE('minority')\n",
    "x1_train, x1_test, y1_train, y1_test = train_test_split(x1, y1, test_size=0.2,stratify=y1)\n",
    "x1_sm, y1_sm = smote.fit_resample(x1_train, y1_train)\n",
    "# print (x1_train.shape, y1_train.shape)\n",
    "# print(x1_sm.shape, y1_sm.shape)\n",
    "clf1 = linear_model.LogisticRegression(C=10,solver='lbfgs', class_weight='balanced')\n",
    "clf1.fit(x1_sm, y1_sm)\n",
    "y1_pred=clf1.predict(x1_test)\n",
    "# print(np.count_nonzero(y_pred))\n",
    "print('Accuracy:', clf1.score(x1_test,y1_test))\n",
    "print(metrics.classification_report(y1_pred, y1_test))\n",
    "print(metrics.confusion_matrix(y1_pred,y1_test, labels=[0,1]))\n",
    "output1 = pd.DataFrame([y1_pred, y1_test])"
   ]
  },
  {
   "cell_type": "markdown",
   "metadata": {},
   "source": [
    "#### Medium chance (2)"
   ]
  },
  {
   "cell_type": "code",
   "execution_count": 19,
   "metadata": {},
   "outputs": [
    {
     "name": "stdout",
     "output_type": "stream",
     "text": [
      "['Year' 'Country / territory of asylum/residence' 'Origin'\n",
      " 'RSD procedure type / level' 'decisions_recognized' 'decisions_other'\n",
      " 'Rejected' 'Otherwise_closed' 'Total decisions' 'Successful'\n",
      " 'Unsuccessful' 'Target_country_GDP_per_capita'\n",
      " 'Origin_country_GDP_per_capita' 'GDP_difference' 'Target_latitude'\n",
      " 'Target_longitude' 'Origin_latitude' 'Origin_longitude'\n",
      " 'origin_to_target_dist' 'HDI' 'Unemployment rate' 'acceptance_rate'\n",
      " 'accepted/rejected' 'Encoded procedure type' 'Encoded Target Country'\n",
      " 'Encoded Origin' 'Total Applications' 'sq_GDP_difference'\n",
      " 'lg_origin_to_target_dist' 'lg_GDP_difference' 'lg_tcgpc' 'lg_ocgpc']\n"
     ]
    }
   ],
   "source": [
    "print(data.columns.values)"
   ]
  },
  {
   "cell_type": "code",
   "execution_count": 37,
   "metadata": {},
   "outputs": [
    {
     "name": "stdout",
     "output_type": "stream",
     "text": [
      "0    103882\n",
      "2      4856\n",
      "Name: accepted/rejected, dtype: int64\n",
      "Accuracy: 0.5854331432775428\n",
      "              precision    recall  f1-score   support\n",
      "\n",
      "           0       0.59      0.96      0.73     12885\n",
      "           2       0.42      0.05      0.08      8863\n",
      "\n",
      "    accuracy                           0.59     21748\n",
      "   macro avg       0.51      0.50      0.41     21748\n",
      "weighted avg       0.52      0.59      0.47     21748\n",
      "\n",
      "[[12323     0]\n",
      " [    0     0]]\n"
     ]
    }
   ],
   "source": [
    "x2 = data[['Unemployment rate', 'origin_to_target_dist', 'Encoded procedure type']]\n",
    "y2 = data['accepted/rejected'].apply(lambda x:2 if x == 2 else 0)\n",
    "print(y2.value_counts())\n",
    "smote = SMOTE('minority')\n",
    "x2_train, x2_test, y2_train, y2_test = train_test_split(x2, y2, test_size=0.2,stratify=y2)\n",
    "x2_sm, y2_sm = smote.fit_sample(x2_train, y2_train)\n",
    "# print (x1_train.shape, y1_train.shape)\n",
    "# print(x1_sm.shape, y1_sm.shape)\n",
    "clf2 = linear_model.LogisticRegression(C=10,solver='lbfgs',class_weight='balanced')\n",
    "clf2.fit(x2_sm, y2_sm)\n",
    "y2_pred=clf2.predict(x2_test)\n",
    "# print(np.count_nonzero(y_pred))\n",
    "print('Accuracy:', clf2.score(x2_test,y2_test))\n",
    "print(metrics.classification_report(y2_pred, y2_test))\n",
    "print(metrics.confusion_matrix(y2_pred,y2_test, labels=[0,1]))\n",
    "output2 = pd.DataFrame([y2_pred, y2_test])"
   ]
  },
  {
   "cell_type": "code",
   "execution_count": 38,
   "metadata": {},
   "outputs": [
    {
     "name": "stdout",
     "output_type": "stream",
     "text": [
      "0    105299\n",
      "3      3439\n",
      "Name: accepted/rejected, dtype: int64\n",
      "Accuracy: 0.6397369873091778\n",
      "              precision    recall  f1-score   support\n",
      "\n",
      "           0       0.64      0.97      0.78     13939\n",
      "           3       0.48      0.04      0.08      7809\n",
      "\n",
      "    accuracy                           0.64     21748\n",
      "   macro avg       0.56      0.51      0.43     21748\n",
      "weighted avg       0.59      0.64      0.53     21748\n",
      "\n",
      "[[13582     0]\n",
      " [    0     0]]\n"
     ]
    }
   ],
   "source": [
    "x3 = data[['Unemployment rate', 'origin_to_target_dist', 'Encoded procedure type']]\n",
    "y3 = data['accepted/rejected'].apply(lambda x:3 if x == 3 else 0)\n",
    "print(y3.value_counts())\n",
    "smote = SMOTE('minority')\n",
    "x3_train, x3_test, y3_train, y3_test = train_test_split(x3, y3, test_size=0.2,stratify=y3)\n",
    "x3_sm, y3_sm = smote.fit_sample(x3_train, y3_train)\n",
    "# print (x1_train.shape, y1_train.shape)\n",
    "# print(x1_sm.shape, y1_sm.shape)\n",
    "clf3 = linear_model.LogisticRegression(C=10,solver='lbfgs',class_weight='balanced')\n",
    "clf3.fit(x3_sm, y3_sm)\n",
    "y3_pred=clf3.predict(x3_test)\n",
    "# print(np.count_nonzero(y_pred))\n",
    "print('Accuracy:', clf3.score(x3_test,y3_test))\n",
    "print(metrics.classification_report(y3_pred, y3_test))\n",
    "print(metrics.confusion_matrix(y3_pred,y3_test, labels=[0,1]))\n",
    "output2 = pd.DataFrame([y3_pred, y3_test])"
   ]
  },
  {
   "cell_type": "code",
   "execution_count": 39,
   "metadata": {},
   "outputs": [],
   "source": [
    "x_check = data[['Unemployment rate', 'origin_to_target_dist', 'Encoded procedure type']]\n",
    "def argmax(x_check):\n",
    "    predicted = []\n",
    "    zero = clf0.predict_proba(x_check)\n",
    "    first = clf1.predict_proba(x_check)\n",
    "    second = clf2.predict_proba(x_check)\n",
    "    third = clf3.predict_proba(x_check)\n",
    "    for i in range(len(zero)):\n",
    "        output = [zero[i][1],first[i][1],second[i][1],third[i][1]]\n",
    "        maxi = max(output)\n",
    "        predicted.append(output.index(maxi))\n",
    "        \n",
    "    return predicted\n",
    "\n",
    "a = argmax(x_check)"
   ]
  },
  {
   "cell_type": "code",
   "execution_count": 40,
   "metadata": {},
   "outputs": [],
   "source": [
    "data['predicted'] = pd.DataFrame(a)"
   ]
  },
  {
   "cell_type": "code",
   "execution_count": 41,
   "metadata": {},
   "outputs": [],
   "source": [
    "result = data[data['accepted/rejected'] == data['predicted']]['predicted']\n",
    "success = result.shape[0]\n",
    "total = data.shape[0]\n",
    "accuracy = success/total"
   ]
  },
  {
   "cell_type": "code",
   "execution_count": 42,
   "metadata": {},
   "outputs": [
    {
     "name": "stdout",
     "output_type": "stream",
     "text": [
      "0.3571244643087053\n"
     ]
    }
   ],
   "source": [
    "print(accuracy)"
   ]
  },
  {
   "cell_type": "code",
   "execution_count": null,
   "metadata": {},
   "outputs": [],
   "source": []
  }
 ],
 "metadata": {
  "kernelspec": {
   "display_name": "Python 3",
   "language": "python",
   "name": "python3"
  },
  "language_info": {
   "codemirror_mode": {
    "name": "ipython",
    "version": 3
   },
   "file_extension": ".py",
   "mimetype": "text/x-python",
   "name": "python",
   "nbconvert_exporter": "python",
   "pygments_lexer": "ipython3",
   "version": "3.7.3"
  }
 },
 "nbformat": 4,
 "nbformat_minor": 2
}
