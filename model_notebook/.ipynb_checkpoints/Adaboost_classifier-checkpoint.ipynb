{
 "cells": [
  {
   "cell_type": "markdown",
   "metadata": {},
   "source": [
    "# Adaboost Classifier"
   ]
  },
  {
   "cell_type": "markdown",
   "metadata": {},
   "source": [
    "## Import Libraries"
   ]
  },
  {
   "cell_type": "code",
   "execution_count": 1,
   "metadata": {},
   "outputs": [],
   "source": [
    "from sklearn.tree import DecisionTreeClassifier # Import DecisionTreeClassifier\n",
    "from sklearn.ensemble import AdaBoostClassifier # Import AdaBoostClassifier\n",
    "from sklearn.model_selection import train_test_split\n",
    "from sklearn.metrics import accuracy_score, confusion_matrix, classification_report\n",
    "import numpy as np\n",
    "import pandas as pd\n",
    "import math"
   ]
  },
  {
   "cell_type": "markdown",
   "metadata": {},
   "source": [
    "## Load dataset and clean data"
   ]
  },
  {
   "cell_type": "code",
   "execution_count": 2,
   "metadata": {},
   "outputs": [
    {
     "name": "stderr",
     "output_type": "stream",
     "text": [
      "/Users/yuankanglee/anaconda3/lib/python3.7/site-packages/IPython/core/interactiveshell.py:3049: DtypeWarning: Columns (19) have mixed types. Specify dtype option on import or set low_memory=False.\n",
      "  interactivity=interactivity, compiler=compiler, result=result)\n"
     ]
    },
    {
     "data": {
      "text/html": [
       "<div>\n",
       "<style scoped>\n",
       "    .dataframe tbody tr th:only-of-type {\n",
       "        vertical-align: middle;\n",
       "    }\n",
       "\n",
       "    .dataframe tbody tr th {\n",
       "        vertical-align: top;\n",
       "    }\n",
       "\n",
       "    .dataframe thead th {\n",
       "        text-align: right;\n",
       "    }\n",
       "</style>\n",
       "<table border=\"1\" class=\"dataframe\">\n",
       "  <thead>\n",
       "    <tr style=\"text-align: right;\">\n",
       "      <th></th>\n",
       "      <th>Year</th>\n",
       "      <th>Country / territory of asylum/residence</th>\n",
       "      <th>Origin</th>\n",
       "      <th>RSD procedure type / level</th>\n",
       "      <th>decisions_recognized</th>\n",
       "      <th>decisions_other</th>\n",
       "      <th>Rejected</th>\n",
       "      <th>Otherwise_closed</th>\n",
       "      <th>Total decisions</th>\n",
       "      <th>Successful</th>\n",
       "      <th>...</th>\n",
       "      <th>Origin_longitude</th>\n",
       "      <th>origin_to_target_dist</th>\n",
       "      <th>HDI</th>\n",
       "      <th>Unemployment rate</th>\n",
       "      <th>acceptance_rate</th>\n",
       "      <th>accepted/rejected</th>\n",
       "      <th>Encoded procedure type</th>\n",
       "      <th>Encoded Target Country</th>\n",
       "      <th>Encoded Origin</th>\n",
       "      <th>log_origin_to_target_dist</th>\n",
       "    </tr>\n",
       "  </thead>\n",
       "  <tbody>\n",
       "    <tr>\n",
       "      <th>0</th>\n",
       "      <td>2001</td>\n",
       "      <td>South Africa</td>\n",
       "      <td>Angola</td>\n",
       "      <td>G / AR</td>\n",
       "      <td>0.0</td>\n",
       "      <td>0.0</td>\n",
       "      <td>0.0</td>\n",
       "      <td>1.0</td>\n",
       "      <td>0.0</td>\n",
       "      <td>0.0</td>\n",
       "      <td>...</td>\n",
       "      <td>-170.132217</td>\n",
       "      <td>2001.0</td>\n",
       "      <td>0.61</td>\n",
       "      <td>30.9</td>\n",
       "      <td>0.000000</td>\n",
       "      <td>0</td>\n",
       "      <td>1</td>\n",
       "      <td>135</td>\n",
       "      <td>3</td>\n",
       "      <td>7.601402</td>\n",
       "    </tr>\n",
       "    <tr>\n",
       "      <th>1</th>\n",
       "      <td>2001</td>\n",
       "      <td>South Africa</td>\n",
       "      <td>Angola</td>\n",
       "      <td>G / FI</td>\n",
       "      <td>860.0</td>\n",
       "      <td>0.0</td>\n",
       "      <td>36.0</td>\n",
       "      <td>68.0</td>\n",
       "      <td>964.0</td>\n",
       "      <td>860.0</td>\n",
       "      <td>...</td>\n",
       "      <td>-170.132217</td>\n",
       "      <td>2001.0</td>\n",
       "      <td>0.61</td>\n",
       "      <td>30.9</td>\n",
       "      <td>0.892116</td>\n",
       "      <td>3</td>\n",
       "      <td>6</td>\n",
       "      <td>135</td>\n",
       "      <td>3</td>\n",
       "      <td>7.601402</td>\n",
       "    </tr>\n",
       "    <tr>\n",
       "      <th>2</th>\n",
       "      <td>2001</td>\n",
       "      <td>South Africa</td>\n",
       "      <td>Albania</td>\n",
       "      <td>G / AR</td>\n",
       "      <td>0.0</td>\n",
       "      <td>0.0</td>\n",
       "      <td>0.0</td>\n",
       "      <td>1.0</td>\n",
       "      <td>0.0</td>\n",
       "      <td>0.0</td>\n",
       "      <td>...</td>\n",
       "      <td>20.168331</td>\n",
       "      <td>2001.0</td>\n",
       "      <td>0.61</td>\n",
       "      <td>30.9</td>\n",
       "      <td>0.000000</td>\n",
       "      <td>0</td>\n",
       "      <td>1</td>\n",
       "      <td>135</td>\n",
       "      <td>1</td>\n",
       "      <td>7.601402</td>\n",
       "    </tr>\n",
       "    <tr>\n",
       "      <th>3</th>\n",
       "      <td>2001</td>\n",
       "      <td>South Africa</td>\n",
       "      <td>Burundi</td>\n",
       "      <td>G / AR</td>\n",
       "      <td>0.0</td>\n",
       "      <td>0.0</td>\n",
       "      <td>0.0</td>\n",
       "      <td>1.0</td>\n",
       "      <td>0.0</td>\n",
       "      <td>0.0</td>\n",
       "      <td>...</td>\n",
       "      <td>-1.561593</td>\n",
       "      <td>2001.0</td>\n",
       "      <td>0.61</td>\n",
       "      <td>30.9</td>\n",
       "      <td>0.000000</td>\n",
       "      <td>0</td>\n",
       "      <td>1</td>\n",
       "      <td>135</td>\n",
       "      <td>25</td>\n",
       "      <td>7.601402</td>\n",
       "    </tr>\n",
       "    <tr>\n",
       "      <th>4</th>\n",
       "      <td>2001</td>\n",
       "      <td>South Africa</td>\n",
       "      <td>Burundi</td>\n",
       "      <td>G / FI</td>\n",
       "      <td>808.0</td>\n",
       "      <td>0.0</td>\n",
       "      <td>234.0</td>\n",
       "      <td>7.0</td>\n",
       "      <td>1049.0</td>\n",
       "      <td>808.0</td>\n",
       "      <td>...</td>\n",
       "      <td>-1.561593</td>\n",
       "      <td>2001.0</td>\n",
       "      <td>0.61</td>\n",
       "      <td>30.9</td>\n",
       "      <td>0.770257</td>\n",
       "      <td>3</td>\n",
       "      <td>6</td>\n",
       "      <td>135</td>\n",
       "      <td>25</td>\n",
       "      <td>7.601402</td>\n",
       "    </tr>\n",
       "  </tbody>\n",
       "</table>\n",
       "<p>5 rows × 27 columns</p>\n",
       "</div>"
      ],
      "text/plain": [
       "   Year Country / territory of asylum/residence   Origin  \\\n",
       "0  2001                            South Africa   Angola   \n",
       "1  2001                            South Africa   Angola   \n",
       "2  2001                            South Africa  Albania   \n",
       "3  2001                            South Africa  Burundi   \n",
       "4  2001                            South Africa  Burundi   \n",
       "\n",
       "  RSD procedure type / level  decisions_recognized  decisions_other  Rejected  \\\n",
       "0                     G / AR                   0.0              0.0       0.0   \n",
       "1                     G / FI                 860.0              0.0      36.0   \n",
       "2                     G / AR                   0.0              0.0       0.0   \n",
       "3                     G / AR                   0.0              0.0       0.0   \n",
       "4                     G / FI                 808.0              0.0     234.0   \n",
       "\n",
       "   Otherwise_closed  Total decisions  Successful  ...  Origin_longitude  \\\n",
       "0               1.0              0.0         0.0  ...       -170.132217   \n",
       "1              68.0            964.0       860.0  ...       -170.132217   \n",
       "2               1.0              0.0         0.0  ...         20.168331   \n",
       "3               1.0              0.0         0.0  ...         -1.561593   \n",
       "4               7.0           1049.0       808.0  ...         -1.561593   \n",
       "\n",
       "   origin_to_target_dist   HDI  Unemployment rate  acceptance_rate  \\\n",
       "0                 2001.0  0.61               30.9         0.000000   \n",
       "1                 2001.0  0.61               30.9         0.892116   \n",
       "2                 2001.0  0.61               30.9         0.000000   \n",
       "3                 2001.0  0.61               30.9         0.000000   \n",
       "4                 2001.0  0.61               30.9         0.770257   \n",
       "\n",
       "   accepted/rejected  Encoded procedure type  Encoded Target Country  \\\n",
       "0                  0                       1                     135   \n",
       "1                  3                       6                     135   \n",
       "2                  0                       1                     135   \n",
       "3                  0                       1                     135   \n",
       "4                  3                       6                     135   \n",
       "\n",
       "   Encoded Origin log_origin_to_target_dist  \n",
       "0               3                  7.601402  \n",
       "1               3                  7.601402  \n",
       "2               1                  7.601402  \n",
       "3              25                  7.601402  \n",
       "4              25                  7.601402  \n",
       "\n",
       "[5 rows x 27 columns]"
      ]
     },
     "execution_count": 2,
     "metadata": {},
     "output_type": "execute_result"
    }
   ],
   "source": [
    "# Load the dataset\n",
    "data = pd.read_csv(\"../cleaned_data/cleaned_asylum_seekers_added.csv\")\n",
    "data = data[data['HDI'] != '..']\n",
    "decimals = 2    \n",
    "\n",
    "# Apply log to distance from origin to target country\n",
    "data['origin_to_target_dist'] = data[(data['origin_to_target_dist'] != 0)]\n",
    "data['log_origin_to_target_dist'] = data['origin_to_target_dist'].apply(lambda x: math.log(x))\n",
    "\n",
    "data['Unemployment rate'] = data['Unemployment rate'].apply(lambda x: round(x, decimals))\n",
    "data['origin_to_target_dist'] = data['origin_to_target_dist'].apply(lambda x: round(x, decimals))\n",
    "data = data.dropna()\n",
    "\n",
    "data.head()"
   ]
  },
  {
   "cell_type": "markdown",
   "metadata": {},
   "source": [
    "## Training the AdaBoost Classifier"
   ]
  },
  {
   "cell_type": "code",
   "execution_count": 17,
   "metadata": {},
   "outputs": [],
   "source": [
    "col_names = ['Unemployment rate', 'log_origin_to_target_dist'] # Declare the columns names\n",
    "\n",
    "# Features\n",
    "x = data[col_names]  \n",
    "\n",
    "# Target Variable\n",
    "y = data['accepted/rejected']\n",
    "\n",
    "# Instantiate decision tree\n",
    "dt = DecisionTreeClassifier(random_state=1)\n",
    "\n",
    "# Instantiate ada\n",
    "ada = AdaBoostClassifier(base_estimator = dt, n_estimators=100, random_state=1)\n",
    "\n",
    "# Split dataset into training set and test set\n",
    "x_train, x_test, y_train, y_test = train_test_split(x, y, test_size=0.2, random_state = 1) # 80% training and 20% test\n",
    "\n",
    "# Fit ada to training set\n",
    "ada.fit(x_train, y_train)\n",
    "\n",
    "# Compute the probabilities\n",
    "y_pred_probability = ada.predict_proba(x_test)[:, 1]"
   ]
  },
  {
   "cell_type": "markdown",
   "metadata": {},
   "source": [
    "## Evaluate AdaBoost Classifier"
   ]
  },
  {
   "cell_type": "code",
   "execution_count": 18,
   "metadata": {},
   "outputs": [
    {
     "name": "stdout",
     "output_type": "stream",
     "text": [
      "Test set accuracy:  0.8168567224572374 \n",
      "\n",
      "Confusion Matrix:\n"
     ]
    },
    {
     "data": {
      "text/plain": [
       "array([[17699,    84,    15,    33],\n",
       "       [ 2233,    41,     4,    11],\n",
       "       [  852,    39,     1,    10],\n",
       "       [  672,    18,    12,    24]], dtype=int64)"
      ]
     },
     "execution_count": 18,
     "metadata": {},
     "output_type": "execute_result"
    }
   ],
   "source": [
    "# Predict test set labels\n",
    "y_pred = ada.predict(x_test)\n",
    "\n",
    "# Compute test set accuracy  \n",
    "acc = accuracy_score(y_test, y_pred)\n",
    "print(\"Test set accuracy: \", (acc), '\\n')\n",
    "\n",
    "print(\"Confusion Matrix:\")\n",
    "confusion_matrix(y_test, y_pred)"
   ]
  },
  {
   "cell_type": "code",
   "execution_count": 19,
   "metadata": {},
   "outputs": [
    {
     "name": "stdout",
     "output_type": "stream",
     "text": [
      "Classification Report: \n",
      "\n",
      "              precision    recall  f1-score   support\n",
      "\n",
      "           0       0.82      0.99      0.90     17831\n",
      "           1       0.23      0.02      0.03      2289\n",
      "           2       0.03      0.00      0.00       902\n",
      "           3       0.31      0.03      0.06       726\n",
      "\n",
      "    accuracy                           0.82     21748\n",
      "   macro avg       0.35      0.26      0.25     21748\n",
      "weighted avg       0.71      0.82      0.74     21748\n",
      "\n"
     ]
    }
   ],
   "source": [
    "print(\"Classification Report:\", \"\\n\")\n",
    "print(classification_report(y_test, y_pred))"
   ]
  }
 ],
 "metadata": {
  "kernelspec": {
   "display_name": "Python 3",
   "language": "python",
   "name": "python3"
  },
  "language_info": {
   "codemirror_mode": {
    "name": "ipython",
    "version": 3
   },
   "file_extension": ".py",
   "mimetype": "text/x-python",
   "name": "python",
   "nbconvert_exporter": "python",
   "pygments_lexer": "ipython3",
   "version": "3.7.3"
  }
 },
 "nbformat": 4,
 "nbformat_minor": 2
}
