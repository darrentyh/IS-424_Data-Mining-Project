{
 "cells": [
  {
   "cell_type": "markdown",
   "metadata": {},
   "source": [
    "# Random Forest Model"
   ]
  },
  {
   "cell_type": "markdown",
   "metadata": {},
   "source": [
    "## Import Libraries"
   ]
  },
  {
   "cell_type": "code",
   "execution_count": 16,
   "metadata": {},
   "outputs": [],
   "source": [
    "# Load libraries\n",
    "import pandas as pd\n",
    "import numpy as np\n",
    "import math\n",
    "from sklearn.ensemble import RandomForestClassifier # Import Random Forest Classifier\n",
    "from sklearn.model_selection import train_test_split # Import train_test_split function\n",
    "from sklearn.metrics import accuracy_score, confusion_matrix, classification_report"
   ]
  },
  {
   "cell_type": "markdown",
   "metadata": {},
   "source": [
    "## Import and preprocess file"
   ]
  },
  {
   "cell_type": "code",
   "execution_count": 17,
   "metadata": {},
   "outputs": [
    {
     "name": "stderr",
     "output_type": "stream",
     "text": [
      "C:\\Users\\Darren\\Anaconda3\\lib\\site-packages\\IPython\\core\\interactiveshell.py:3058: DtypeWarning: Columns (19) have mixed types. Specify dtype option on import or set low_memory=False.\n",
      "  interactivity=interactivity, compiler=compiler, result=result)\n"
     ]
    }
   ],
   "source": [
    "# Load the dataset\n",
    "data = pd.read_csv(\"../cleaned_data/cleaned_asylum_seekers_added.csv\")\n",
    "\n",
    "# Remove records from HDI column where values = '..'\n",
    "data = data[data['HDI'] != '..']\n",
    "data['GDP_difference'] = data['GDP_difference'].abs() \n",
    "data['GDP_difference'] = data[(data['GDP_difference'] != 0)]\n",
    "\n",
    "# Log to transform data\n",
    "data['origin_to_target_dist'] = data[(data['origin_to_target_dist'] != 0)]\n",
    "data['log_origin_to_target_dist'] = data['origin_to_target_dist'].apply(lambda x: math.log(x))\n",
    "\n",
    "data['log_GDP_difference'] = data['GDP_difference'].apply(lambda x: math.log(x))\n",
    "\n",
    "# Convert to float type\n",
    "data['HDI'] = data['HDI'].astype('float64')\n",
    "\n",
    "# Remove null values from all records\n",
    "data = data.dropna()"
   ]
  },
  {
   "cell_type": "code",
   "execution_count": 18,
   "metadata": {},
   "outputs": [],
   "source": [
    "#'Encoded Target Country', 'Encoded procedure type'\n",
    "col_names = ['Unemployment rate', 'log_origin_to_target_dist'] # Declare the columns names\n",
    "\n",
    "# Features \n",
    "features = data[col_names]\n",
    "\n",
    " # Target Variable\n",
    "class_label = data['accepted/rejected']"
   ]
  },
  {
   "cell_type": "code",
   "execution_count": 19,
   "metadata": {},
   "outputs": [],
   "source": [
    "# Split dataset into training set and test set\n",
    "x_train, x_test, y_train, y_test = train_test_split(features, class_label, test_size = 0.2, random_state = 1) # 80% training and 20% test"
   ]
  },
  {
   "cell_type": "code",
   "execution_count": 20,
   "metadata": {
    "scrolled": true
   },
   "outputs": [
    {
     "data": {
      "text/plain": [
       "RandomForestClassifier(bootstrap=True, class_weight=None, criterion='gini',\n",
       "                       max_depth=None, max_features='sqrt', max_leaf_nodes=None,\n",
       "                       min_impurity_decrease=0.0, min_impurity_split=None,\n",
       "                       min_samples_leaf=1, min_samples_split=2,\n",
       "                       min_weight_fraction_leaf=0.0, n_estimators=50,\n",
       "                       n_jobs=None, oob_score=False, random_state=None,\n",
       "                       verbose=0, warm_start=False)"
      ]
     },
     "execution_count": 20,
     "metadata": {},
     "output_type": "execute_result"
    }
   ],
   "source": [
    "# Create the model with 50 trees\n",
    "#max_features=sqrt(n_features) for classification tasks\n",
    "\n",
    "model = RandomForestClassifier(n_estimators = 50, \n",
    "                               bootstrap = True,\n",
    "                               max_features = 'sqrt')\n",
    "\n",
    "# Fit on training data\n",
    "model.fit(x_train, y_train)"
   ]
  },
  {
   "cell_type": "code",
   "execution_count": 21,
   "metadata": {},
   "outputs": [
    {
     "name": "stdout",
     "output_type": "stream",
     "text": [
      "Accuracy:  0.816981399971603\n",
      "Confusion Matrix:\n"
     ]
    },
    {
     "data": {
      "text/plain": [
       "array([[17198,    67,    23,    26],\n",
       "       [ 2151,    30,    17,     8],\n",
       "       [  905,    18,     8,     8],\n",
       "       [  620,    22,     2,    26]], dtype=int64)"
      ]
     },
     "execution_count": 21,
     "metadata": {},
     "output_type": "execute_result"
    }
   ],
   "source": [
    "y_predict = model.predict(x_test)\n",
    "\n",
    "print(\"Accuracy: \", accuracy_score(y_test, y_predict))\n",
    "\n",
    "print(\"Confusion Matrix:\")\n",
    "confusion_matrix(y_test, y_predict)"
   ]
  },
  {
   "cell_type": "code",
   "execution_count": 22,
   "metadata": {},
   "outputs": [
    {
     "name": "stdout",
     "output_type": "stream",
     "text": [
      "Classification Report: \n",
      "\n",
      "              precision    recall  f1-score   support\n",
      "\n",
      "           0       0.82      0.99      0.90     17314\n",
      "           1       0.22      0.01      0.03      2206\n",
      "           2       0.16      0.01      0.02       939\n",
      "           3       0.38      0.04      0.07       670\n",
      "\n",
      "    accuracy                           0.82     21129\n",
      "   macro avg       0.40      0.26      0.25     21129\n",
      "weighted avg       0.72      0.82      0.74     21129\n",
      "\n"
     ]
    }
   ],
   "source": [
    "print(\"Classification Report:\", \"\\n\")\n",
    "print(classification_report(y_test, y_predict))"
   ]
  }
 ],
 "metadata": {
  "kernelspec": {
   "display_name": "Python 3",
   "language": "python",
   "name": "python3"
  },
  "language_info": {
   "codemirror_mode": {
    "name": "ipython",
    "version": 3
   },
   "file_extension": ".py",
   "mimetype": "text/x-python",
   "name": "python",
   "nbconvert_exporter": "python",
   "pygments_lexer": "ipython3",
   "version": "3.7.3"
  }
 },
 "nbformat": 4,
 "nbformat_minor": 2
}
