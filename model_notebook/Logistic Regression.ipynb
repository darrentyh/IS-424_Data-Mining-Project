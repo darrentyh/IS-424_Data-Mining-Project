{
 "cells": [
  {
   "cell_type": "code",
   "execution_count": 43,
   "metadata": {},
   "outputs": [],
   "source": [
    "import pandas as pd\n",
    "import sklearn\n",
    "from sklearn import datasets, linear_model\n",
    "from sklearn.model_selection import train_test_split\n",
    "from matplotlib import pyplot as plt\n",
    "import numpy as np\n",
    "import math\n",
    "from sklearn import metrics\n",
    "from imblearn.over_sampling import SMOTE\n",
    "from imblearn.under_sampling import CondensedNearestNeighbour\n",
    "from sklearn.utils import resample\n",
    "from sklearn.model_selection import GridSearchCV\n",
    "# from mlxtend.classifier import SoftmaxRegression"
   ]
  },
  {
   "cell_type": "code",
   "execution_count": 44,
   "metadata": {},
   "outputs": [
    {
     "name": "stderr",
     "output_type": "stream",
     "text": [
      "C:\\Users\\lenovo\\Anaconda3\\lib\\site-packages\\IPython\\core\\interactiveshell.py:3049: DtypeWarning: Columns (19) have mixed types. Specify dtype option on import or set low_memory=False.\n",
      "  interactivity=interactivity, compiler=compiler, result=result)\n"
     ]
    },
    {
     "data": {
      "text/plain": [
       "0    86242\n",
       "1    11264\n",
       "2     4776\n",
       "3     3363\n",
       "Name: accepted/rejected, dtype: int64"
      ]
     },
     "execution_count": 44,
     "metadata": {},
     "output_type": "execute_result"
    }
   ],
   "source": [
    "# Load the dataset\n",
    "data = pd.read_csv(\"cleaned_data/cleaned_asylum_seekers_added.csv\")\n",
    "addition = pd.read_csv('cleaned_data/cleaned_asylum_seekers.csv')\n",
    "data = data[data['HDI'] != '..']\n",
    "data['HDI'] = data['HDI'].astype('float64')\n",
    "data = data.dropna()\n",
    "data = data[data['origin_to_target_dist'] != 0]\n",
    "decimals = 2    \n",
    "data['Unemployment rate'] = data['Unemployment rate'].apply(lambda x: round(x, decimals))\n",
    "data['origin_to_target_dist'] = data['origin_to_target_dist'].apply(lambda x: round(x, decimals))\n",
    "data['Total Applications'] = addition['Applied during year']\n",
    "data['sq_GDP_difference'] = data['GDP_difference'].apply(lambda x: x**2 )\n",
    "data['lg_origin_to_target_dist'] = data['origin_to_target_dist'].apply(lambda x: math.log(abs(x)))\n",
    "data['lg_GDP_difference'] = data['GDP_difference'].apply(lambda x: math.log(abs(x)))\n",
    "data['lg_tcgpc'] = data['Target_country_GDP_per_capita'].apply(lambda x: math.log(abs(x)))\n",
    "data['lg_ocgpc'] = data['Origin_country_GDP_per_capita'].apply(lambda x: math.log(abs(x)))\n",
    "# data['capacity'] = data['']\n",
    "data['accepted/rejected'].value_counts() "
   ]
  },
  {
   "cell_type": "markdown",
   "metadata": {},
   "source": [
    "## Multinomial Logistic Regression"
   ]
  },
  {
   "cell_type": "markdown",
   "metadata": {},
   "source": [
    "### Softmax Implementation"
   ]
  },
  {
   "cell_type": "code",
   "execution_count": 45,
   "metadata": {},
   "outputs": [
    {
     "name": "stdout",
     "output_type": "stream",
     "text": [
      "['Year' 'Country / territory of asylum/residence' 'Origin'\n",
      " 'RSD procedure type / level' 'decisions_recognized' 'decisions_other'\n",
      " 'Rejected' 'Otherwise_closed' 'Total decisions' 'Successful'\n",
      " 'Unsuccessful' 'Target_country_GDP_per_capita'\n",
      " 'Origin_country_GDP_per_capita' 'GDP_difference' 'Target_latitude'\n",
      " 'Target_longitude' 'Origin_latitude' 'Origin_longitude'\n",
      " 'origin_to_target_dist' 'HDI' 'Unemployment rate' 'acceptance_rate'\n",
      " 'accepted/rejected' 'Encoded procedure type' 'Encoded Target Country'\n",
      " 'Encoded Origin' 'Total Applications' 'sq_GDP_difference'\n",
      " 'lg_origin_to_target_dist' 'lg_GDP_difference' 'lg_tcgpc' 'lg_ocgpc']\n"
     ]
    }
   ],
   "source": [
    "print(data.columns.values)"
   ]
  },
  {
   "cell_type": "code",
   "execution_count": 153,
   "metadata": {},
   "outputs": [
    {
     "name": "stdout",
     "output_type": "stream",
     "text": [
      "Accuracy: 0.2601637559752\n",
      "              precision    recall  f1-score   support\n",
      "\n",
      "           0       0.22      0.86      0.35      4400\n",
      "           1       0.65      0.12      0.21     11938\n",
      "           2       0.01      0.02      0.01       396\n",
      "           3       0.36      0.06      0.10      4395\n",
      "\n",
      "    accuracy                           0.26     21129\n",
      "   macro avg       0.31      0.26      0.17     21129\n",
      "weighted avg       0.49      0.26      0.21     21129\n",
      "\n",
      "[[3773  384  146   97]\n",
      " [9536 1470  604  328]\n",
      " [ 344   40    9    3]\n",
      " [3595  359  196  245]]\n"
     ]
    }
   ],
   "source": [
    "x = data[['Encoded procedure type','Unemployment rate', 'lg_origin_to_target_dist']]\n",
    "y = data['accepted/rejected']\n",
    "\n",
    "smote = SMOTE('not majority')\n",
    "x_train, x_test, y_train, y_test = train_test_split(x, y, test_size=0.2,stratify=y)\n",
    "# print(y0_test.value_counts())\n",
    "x_sm, y_sm = smote.fit_resample(x_train, y_train)\n",
    "# print(len(y0_sm))\n",
    "# print (x0_train.shape, y0_train.shape)\n",
    "# print(x0.shape, y0.shape)\n",
    "clf = linear_model.LogisticRegression(C=100,solver='lbfgs',class_weight='balanced', multi_class='multinomial', max_iter=1000)\n",
    "clf.fit(x_sm, y_sm)\n",
    "y_pred=clf.predict(x_test)\n",
    "print('Accuracy:', clf.score(x_test,y_test))\n",
    "print(metrics.classification_report(y_pred, y_test))\n",
    "print(metrics.confusion_matrix(y_pred,y_test, labels=[0,1,2,3]))\n",
    "output = pd.DataFrame([y_pred, y_test])"
   ]
  },
  {
   "cell_type": "markdown",
   "metadata": {},
   "source": [
    "### One vs All Implementation"
   ]
  },
  {
   "cell_type": "markdown",
   "metadata": {},
   "source": [
    "#### Really Low Chance (0)"
   ]
  },
  {
   "cell_type": "code",
   "execution_count": 117,
   "metadata": {},
   "outputs": [
    {
     "name": "stdout",
     "output_type": "stream",
     "text": [
      "['Year' 'Country / territory of asylum/residence' 'Origin'\n",
      " 'RSD procedure type / level' 'decisions_recognized' 'decisions_other'\n",
      " 'Rejected' 'Otherwise_closed' 'Total decisions' 'Successful'\n",
      " 'Unsuccessful' 'Target_country_GDP_per_capita'\n",
      " 'Origin_country_GDP_per_capita' 'GDP_difference' 'Target_latitude'\n",
      " 'Target_longitude' 'Origin_latitude' 'Origin_longitude'\n",
      " 'origin_to_target_dist' 'HDI' 'Unemployment rate' 'acceptance_rate'\n",
      " 'accepted/rejected' 'Encoded procedure type' 'Encoded Target Country'\n",
      " 'Encoded Origin' 'Total Applications' 'sq_GDP_difference'\n",
      " 'lg_origin_to_target_dist' 'lg_GDP_difference' 'lg_tcgpc' 'lg_ocgpc'\n",
      " 'predicted']\n"
     ]
    }
   ],
   "source": [
    "print(data.columns.values)\n",
    "#'Unemployment rate', 'origin_to_target_dist','Encoded procedure type'"
   ]
  },
  {
   "cell_type": "code",
   "execution_count": 145,
   "metadata": {},
   "outputs": [
    {
     "name": "stdout",
     "output_type": "stream",
     "text": [
      "Accuracy: 0.4694495716787354\n",
      "              precision    recall  f1-score   support\n",
      "\n",
      "           0       0.60      0.19      0.29     12009\n",
      "           1       0.44      0.83      0.57      9120\n",
      "\n",
      "    accuracy                           0.47     21129\n",
      "   macro avg       0.52      0.51      0.43     21129\n",
      "weighted avg       0.53      0.47      0.42     21129\n",
      "\n",
      "[[2340 9669]\n",
      " [1541 7579]]\n"
     ]
    }
   ],
   "source": [
    "x0 = data[['Encoded procedure type','Unemployment rate', 'lg_origin_to_target_dist']]\n",
    "y0 = data['accepted/rejected'].apply(lambda x:1 if x == 0 else 0)\n",
    "\n",
    "# smote = SMOTE('not majority')\n",
    "x0_train, x0_test, y0_train, y0_test = train_test_split(x0, y0, test_size=0.2,stratify=y0)\n",
    "# print(y0_test.value_counts())\n",
    "# x0_sm, y0_sm = smote.fit_resample(x0_train, y0_train)\n",
    "# print(len(y0_sm))\n",
    "# print (x0_train.shape, y0_train.shape)\n",
    "# print(x0.shape, y0.shape)\n",
    "clf0 = linear_model.LogisticRegression(C=10, solver='lbfgs',class_weight='balanced')\n",
    "clf0.fit(x0_train, y0_train)\n",
    "y0_pred=clf0.predict(x0_test)\n",
    "print('Accuracy:', clf0.score(x0_test,y0_test))\n",
    "print(metrics.classification_report(y0_pred, y0_test))\n",
    "print(metrics.confusion_matrix(y0_pred,y0_test, labels=[0,1]))\n",
    "output0 = pd.DataFrame([y0_pred, y0_test])"
   ]
  },
  {
   "cell_type": "markdown",
   "metadata": {},
   "source": [
    "#### Low Chance (1)"
   ]
  },
  {
   "cell_type": "code",
   "execution_count": 49,
   "metadata": {},
   "outputs": [
    {
     "name": "stdout",
     "output_type": "stream",
     "text": [
      "['Year' 'Country / territory of asylum/residence' 'Origin'\n",
      " 'RSD procedure type / level' 'decisions_recognized' 'decisions_other'\n",
      " 'Rejected' 'Otherwise_closed' 'Total decisions' 'Successful'\n",
      " 'Unsuccessful' 'Target_country_GDP_per_capita'\n",
      " 'Origin_country_GDP_per_capita' 'GDP_difference' 'Target_latitude'\n",
      " 'Target_longitude' 'Origin_latitude' 'Origin_longitude'\n",
      " 'origin_to_target_dist' 'HDI' 'Unemployment rate' 'acceptance_rate'\n",
      " 'accepted/rejected' 'Encoded procedure type' 'Encoded Target Country'\n",
      " 'Encoded Origin' 'Total Applications' 'sq_GDP_difference'\n",
      " 'lg_origin_to_target_dist' 'lg_GDP_difference' 'lg_tcgpc' 'lg_ocgpc']\n"
     ]
    }
   ],
   "source": [
    "print(data.columns.values)"
   ]
  },
  {
   "cell_type": "code",
   "execution_count": 146,
   "metadata": {},
   "outputs": [
    {
     "name": "stdout",
     "output_type": "stream",
     "text": [
      "0    94381\n",
      "1    11264\n",
      "Name: accepted/rejected, dtype: int64\n",
      "Accuracy: 0.4536892422736523\n",
      "              precision    recall  f1-score   support\n",
      "\n",
      "           0       0.43      0.91      0.58      8921\n",
      "           1       0.65      0.12      0.20     12208\n",
      "\n",
      "    accuracy                           0.45     21129\n",
      "   macro avg       0.54      0.52      0.39     21129\n",
      "weighted avg       0.56      0.45      0.36     21129\n",
      "\n",
      "[[ 8127   794]\n",
      " [10749  1459]]\n"
     ]
    }
   ],
   "source": [
    "x1 = data[['Encoded procedure type','Unemployment rate', 'lg_origin_to_target_dist']]\n",
    "y1 = data['accepted/rejected'].apply(lambda x:1 if x == 1 else 0)\n",
    "print(y1.value_counts())\n",
    "smote = SMOTE('minority')\n",
    "x1_train, x1_test, y1_train, y1_test = train_test_split(x1, y1, test_size=0.2,stratify=y1)\n",
    "x1_sm, y1_sm = smote.fit_resample(x1_train, y1_train)\n",
    "# print (x1_train.shape, y1_train.shape)\n",
    "# print(x1_sm.shape, y1_sm.shape)\n",
    "clf1 = linear_model.LogisticRegression(C=10,solver='lbfgs', class_weight='balanced')\n",
    "clf1.fit(x1_sm, y1_sm)\n",
    "y1_pred=clf1.predict(x1_test)\n",
    "# print(np.count_nonzero(y_pred))\n",
    "print('Accuracy:', clf1.score(x1_test,y1_test))\n",
    "print(metrics.classification_report(y1_pred, y1_test))\n",
    "print(metrics.confusion_matrix(y1_pred,y1_test, labels=[0,1]))\n",
    "output1 = pd.DataFrame([y1_pred, y1_test])"
   ]
  },
  {
   "cell_type": "markdown",
   "metadata": {},
   "source": [
    "#### Medium chance (2)"
   ]
  },
  {
   "cell_type": "code",
   "execution_count": 51,
   "metadata": {},
   "outputs": [
    {
     "name": "stdout",
     "output_type": "stream",
     "text": [
      "['Year' 'Country / territory of asylum/residence' 'Origin'\n",
      " 'RSD procedure type / level' 'decisions_recognized' 'decisions_other'\n",
      " 'Rejected' 'Otherwise_closed' 'Total decisions' 'Successful'\n",
      " 'Unsuccessful' 'Target_country_GDP_per_capita'\n",
      " 'Origin_country_GDP_per_capita' 'GDP_difference' 'Target_latitude'\n",
      " 'Target_longitude' 'Origin_latitude' 'Origin_longitude'\n",
      " 'origin_to_target_dist' 'HDI' 'Unemployment rate' 'acceptance_rate'\n",
      " 'accepted/rejected' 'Encoded procedure type' 'Encoded Target Country'\n",
      " 'Encoded Origin' 'Total Applications' 'sq_GDP_difference'\n",
      " 'lg_origin_to_target_dist' 'lg_GDP_difference' 'lg_tcgpc' 'lg_ocgpc']\n"
     ]
    }
   ],
   "source": [
    "print(data.columns.values)"
   ]
  },
  {
   "cell_type": "code",
   "execution_count": 147,
   "metadata": {},
   "outputs": [
    {
     "name": "stdout",
     "output_type": "stream",
     "text": [
      "0    100869\n",
      "2      4776\n",
      "Name: accepted/rejected, dtype: int64\n",
      "Accuracy: 0.4484831274551564\n",
      "              precision    recall  f1-score   support\n",
      "\n",
      "           0       0.44      0.96      0.60      9301\n",
      "           2       0.59      0.05      0.09     11828\n",
      "\n",
      "    accuracy                           0.45     21129\n",
      "   macro avg       0.52      0.50      0.35     21129\n",
      "weighted avg       0.53      0.45      0.32     21129\n",
      "\n",
      "[[8911    0]\n",
      " [   0    0]]\n"
     ]
    }
   ],
   "source": [
    "x2 = data[['Encoded procedure type','Unemployment rate', 'lg_origin_to_target_dist']]\n",
    "y2 = data['accepted/rejected'].apply(lambda x:2 if x == 2 else 0)\n",
    "print(y2.value_counts())\n",
    "smote = SMOTE('minority')\n",
    "x2_train, x2_test, y2_train, y2_test = train_test_split(x2, y2, test_size=0.2,stratify=y2)\n",
    "x2_sm, y2_sm = smote.fit_sample(x2_train, y2_train)\n",
    "# print (x1_train.shape, y1_train.shape)\n",
    "# print(x1_sm.shape, y1_sm.shape)\n",
    "clf2 = linear_model.LogisticRegression(C=10,solver='lbfgs',class_weight='balanced')\n",
    "clf2.fit(x2_sm, y2_sm)\n",
    "y2_pred=clf2.predict(x2_test)\n",
    "# print(np.count_nonzero(y_pred))\n",
    "print('Accuracy:', clf2.score(x2_test,y2_test))\n",
    "print(metrics.classification_report(y2_pred, y2_test))\n",
    "print(metrics.confusion_matrix(y2_pred,y2_test, labels=[0,1]))\n",
    "output2 = pd.DataFrame([y2_pred, y2_test])"
   ]
  },
  {
   "cell_type": "markdown",
   "metadata": {},
   "source": [
    "#### High Chance (3)"
   ]
  },
  {
   "cell_type": "code",
   "execution_count": 148,
   "metadata": {},
   "outputs": [
    {
     "name": "stdout",
     "output_type": "stream",
     "text": [
      "0    102282\n",
      "3      3363\n",
      "Name: accepted/rejected, dtype: int64\n",
      "Accuracy: 0.7177812485209901\n",
      "              precision    recall  f1-score   support\n",
      "\n",
      "           0       0.73      0.97      0.83     15333\n",
      "           3       0.38      0.04      0.08      5796\n",
      "\n",
      "    accuracy                           0.72     21129\n",
      "   macro avg       0.55      0.51      0.46     21129\n",
      "weighted avg       0.63      0.72      0.63     21129\n",
      "\n",
      "[[14913     0]\n",
      " [    0     0]]\n"
     ]
    }
   ],
   "source": [
    "x3 = data[['Encoded procedure type','Unemployment rate', 'lg_origin_to_target_dist']]\n",
    "y3 = data['accepted/rejected'].apply(lambda x:3 if x == 3 else 0)\n",
    "print(y3.value_counts())\n",
    "smote = SMOTE('minority')\n",
    "x3_train, x3_test, y3_train, y3_test = train_test_split(x3, y3, test_size=0.2,stratify=y3)\n",
    "x3_sm, y3_sm = smote.fit_sample(x3_train, y3_train)\n",
    "# print (x1_train.shape, y1_train.shape)\n",
    "# print(x1_sm.shape, y1_sm.shape)\n",
    "clf3 = linear_model.LogisticRegression(C=10,solver='lbfgs',class_weight='balanced')\n",
    "clf3.fit(x3_sm, y3_sm)\n",
    "y3_pred=clf3.predict(x3_test)\n",
    "# print(np.count_nonzero(y_pred))\n",
    "print('Accuracy:', clf3.score(x3_test,y3_test))\n",
    "print(metrics.classification_report(y3_pred, y3_test))\n",
    "print(metrics.confusion_matrix(y3_pred,y3_test, labels=[0,1]))\n",
    "output2 = pd.DataFrame([y3_pred, y3_test])"
   ]
  },
  {
   "cell_type": "markdown",
   "metadata": {},
   "source": [
    "#### Getting Argmax from the various classes"
   ]
  },
  {
   "cell_type": "code",
   "execution_count": 149,
   "metadata": {},
   "outputs": [],
   "source": [
    "x_check = data[['Encoded procedure type','Unemployment rate', 'lg_origin_to_target_dist']]\n",
    "def argmax(x_check):\n",
    "    predicted = []\n",
    "    zero = clf0.predict_proba(x_check)\n",
    "    first = clf1.predict_proba(x_check)\n",
    "    second = clf2.predict_proba(x_check)\n",
    "    third = clf3.predict_proba(x_check)\n",
    "    for i in range(len(zero)):\n",
    "        output = [zero[i][1],first[i][1],second[i][1],third[i][1]]\n",
    "        maxi = max(output)\n",
    "        predicted.append(output.index(maxi))\n",
    "        \n",
    "    return predicted\n",
    "\n",
    "a = argmax(x_check)"
   ]
  },
  {
   "cell_type": "code",
   "execution_count": 150,
   "metadata": {},
   "outputs": [],
   "source": [
    "data['predicted'] = pd.DataFrame(a)"
   ]
  },
  {
   "cell_type": "code",
   "execution_count": 151,
   "metadata": {},
   "outputs": [],
   "source": [
    "result = data[data['accepted/rejected'] == data['predicted']]['predicted']\n",
    "success = result.shape[0]\n",
    "total = data.shape[0]\n",
    "accuracy = success/total"
   ]
  },
  {
   "cell_type": "code",
   "execution_count": 152,
   "metadata": {},
   "outputs": [
    {
     "name": "stdout",
     "output_type": "stream",
     "text": [
      "0.2832410431160964\n"
     ]
    }
   ],
   "source": [
    "print(accuracy)"
   ]
  },
  {
   "cell_type": "code",
   "execution_count": null,
   "metadata": {},
   "outputs": [],
   "source": []
  }
 ],
 "metadata": {
  "kernelspec": {
   "display_name": "Python 3",
   "language": "python",
   "name": "python3"
  },
  "language_info": {
   "codemirror_mode": {
    "name": "ipython",
    "version": 3
   },
   "file_extension": ".py",
   "mimetype": "text/x-python",
   "name": "python",
   "nbconvert_exporter": "python",
   "pygments_lexer": "ipython3",
   "version": "3.7.3"
  }
 },
 "nbformat": 4,
 "nbformat_minor": 2
}
