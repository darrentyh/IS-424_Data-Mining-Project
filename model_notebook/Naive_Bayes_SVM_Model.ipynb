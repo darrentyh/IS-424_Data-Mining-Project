{
 "cells": [
  {
   "cell_type": "markdown",
   "metadata": {},
   "source": [
    "# Naive Bayes / SVM Classifier"
   ]
  },
  {
   "cell_type": "markdown",
   "metadata": {},
   "source": [
    "## Import Libraries and Data"
   ]
  },
  {
   "cell_type": "code",
   "execution_count": 1,
   "metadata": {},
   "outputs": [],
   "source": [
    "import pandas as pd \n",
    "import numpy as np\n",
    "import math\n",
    "import sklearn.metrics as metrics\n",
    "from sklearn.svm import SVC\n",
    "from sklearn import svm\n",
    "from sklearn.model_selection import GridSearchCV\n",
    "from sklearn.naive_bayes import GaussianNB\n",
    "from sklearn.metrics import accuracy_score\n",
    "from sklearn.naive_bayes import MultinomialNB\n",
    "from sklearn.model_selection import train_test_split\n",
    "from sklearn.metrics import classification_report, confusion_matrix\n",
    "from imblearn.over_sampling import SMOTE\n",
    "from sklearn.model_selection import StratifiedKFold\n",
    "from sklearn.feature_selection import RFE\n",
    "from sklearn.feature_selection import RFECV\n",
    "from imblearn.under_sampling import RandomUnderSampler"
   ]
  },
  {
   "cell_type": "code",
   "execution_count": 2,
   "metadata": {},
   "outputs": [
    {
     "name": "stderr",
     "output_type": "stream",
     "text": [
      "C:\\Users\\Darren\\Anaconda3\\lib\\site-packages\\IPython\\core\\interactiveshell.py:3058: DtypeWarning: Columns (19) have mixed types. Specify dtype option on import or set low_memory=False.\n",
      "  interactivity=interactivity, compiler=compiler, result=result)\n"
     ]
    }
   ],
   "source": [
    "# Load Dataset\n",
    "\n",
    "results = pd.read_csv('../cleaned_data/cleaned_asylum_seekers_added.csv')"
   ]
  },
  {
   "cell_type": "markdown",
   "metadata": {},
   "source": [
    "## Cleaning and Transformation"
   ]
  },
  {
   "cell_type": "code",
   "execution_count": 3,
   "metadata": {},
   "outputs": [
    {
     "data": {
      "text/html": [
       "<div>\n",
       "<style scoped>\n",
       "    .dataframe tbody tr th:only-of-type {\n",
       "        vertical-align: middle;\n",
       "    }\n",
       "\n",
       "    .dataframe tbody tr th {\n",
       "        vertical-align: top;\n",
       "    }\n",
       "\n",
       "    .dataframe thead th {\n",
       "        text-align: right;\n",
       "    }\n",
       "</style>\n",
       "<table border=\"1\" class=\"dataframe\">\n",
       "  <thead>\n",
       "    <tr style=\"text-align: right;\">\n",
       "      <th></th>\n",
       "      <th>Year</th>\n",
       "      <th>Country / territory of asylum/residence</th>\n",
       "      <th>Origin</th>\n",
       "      <th>RSD procedure type / level</th>\n",
       "      <th>decisions_recognized</th>\n",
       "      <th>decisions_other</th>\n",
       "      <th>Rejected</th>\n",
       "      <th>Otherwise_closed</th>\n",
       "      <th>Total decisions</th>\n",
       "      <th>Successful</th>\n",
       "      <th>...</th>\n",
       "      <th>origin_to_target_dist</th>\n",
       "      <th>HDI</th>\n",
       "      <th>Unemployment rate</th>\n",
       "      <th>acceptance_rate</th>\n",
       "      <th>accepted/rejected</th>\n",
       "      <th>Encoded procedure type</th>\n",
       "      <th>Encoded Target Country</th>\n",
       "      <th>Encoded Origin</th>\n",
       "      <th>log_origin_to_target_dist</th>\n",
       "      <th>log_GDP_difference</th>\n",
       "    </tr>\n",
       "  </thead>\n",
       "  <tbody>\n",
       "    <tr>\n",
       "      <td>0</td>\n",
       "      <td>2001</td>\n",
       "      <td>South Africa</td>\n",
       "      <td>Angola</td>\n",
       "      <td>G / AR</td>\n",
       "      <td>0.0</td>\n",
       "      <td>0.0</td>\n",
       "      <td>0.0</td>\n",
       "      <td>1.0</td>\n",
       "      <td>0.0</td>\n",
       "      <td>0.0</td>\n",
       "      <td>...</td>\n",
       "      <td>2001</td>\n",
       "      <td>0.61</td>\n",
       "      <td>30.896</td>\n",
       "      <td>0.0</td>\n",
       "      <td>0</td>\n",
       "      <td>1</td>\n",
       "      <td>135</td>\n",
       "      <td>3</td>\n",
       "      <td>7.601402</td>\n",
       "      <td>7.601402</td>\n",
       "    </tr>\n",
       "  </tbody>\n",
       "</table>\n",
       "<p>1 rows × 28 columns</p>\n",
       "</div>"
      ],
      "text/plain": [
       "   Year Country / territory of asylum/residence  Origin  \\\n",
       "0  2001                            South Africa  Angola   \n",
       "\n",
       "  RSD procedure type / level  decisions_recognized  decisions_other  Rejected  \\\n",
       "0                     G / AR                   0.0              0.0       0.0   \n",
       "\n",
       "   Otherwise_closed  Total decisions  Successful  ...  origin_to_target_dist  \\\n",
       "0               1.0              0.0         0.0  ...                   2001   \n",
       "\n",
       "    HDI  Unemployment rate acceptance_rate  accepted/rejected  \\\n",
       "0  0.61             30.896             0.0                  0   \n",
       "\n",
       "   Encoded procedure type  Encoded Target Country  Encoded Origin  \\\n",
       "0                       1                     135               3   \n",
       "\n",
       "  log_origin_to_target_dist  log_GDP_difference  \n",
       "0                  7.601402            7.601402  \n",
       "\n",
       "[1 rows x 28 columns]"
      ]
     },
     "execution_count": 3,
     "metadata": {},
     "output_type": "execute_result"
    }
   ],
   "source": [
    "# Remove records from HDI column where values = '..'\n",
    "results = results[results['HDI'] != '..']\n",
    "results['GDP_difference'] = results['GDP_difference'].abs() \n",
    "results['GDP_difference'] = results[(results['GDP_difference'] != 0)]\n",
    "\n",
    "# Log to transform data\n",
    "results['origin_to_target_dist'] = results[(results['origin_to_target_dist'] != 0)]\n",
    "results['log_origin_to_target_dist'] = results['origin_to_target_dist'].apply(lambda x: math.log(x))\n",
    "\n",
    "results['log_GDP_difference'] = results['GDP_difference'].apply(lambda x: math.log(x))\n",
    "\n",
    "# Convert to float type\n",
    "results['HDI'] = results['HDI'].astype('float64')\n",
    "\n",
    "# Remove null values from all records\n",
    "results = results.dropna()\n",
    "\n",
    "results.head(1)"
   ]
  },
  {
   "cell_type": "markdown",
   "metadata": {},
   "source": [
    "## Train Test Split"
   ]
  },
  {
   "cell_type": "code",
   "execution_count": 4,
   "metadata": {},
   "outputs": [],
   "source": [
    "# Declaring label\n",
    "label = results['accepted/rejected'] \n",
    "\n",
    "# col_names = ['HDI', 'log_GDP_difference', 'log_Unemployment_rate', 'log_origin_to_target_dist']\n",
    "col_names = ['Unemployment rate', 'log_origin_to_target_dist']\n",
    "\n",
    "features = results[col_names]\n",
    "\n",
    "X_train, X_test, y_train, y_test = train_test_split(features, label, test_size=0.10, stratify=label)"
   ]
  },
  {
   "cell_type": "markdown",
   "metadata": {},
   "source": [
    "## Multinomial Naive Bayes"
   ]
  },
  {
   "cell_type": "code",
   "execution_count": 5,
   "metadata": {},
   "outputs": [
    {
     "name": "stdout",
     "output_type": "stream",
     "text": [
      "y_pred:  [0 0 0 ... 0 0 0]\n",
      "----------------------------------------\n",
      "accuracy:  0.8163748225272125\n",
      "----------------------------------------\n",
      "[[8625    0    0    0]\n",
      " [1126    0    0    0]\n",
      " [ 478    0    0    0]\n",
      " [ 336    0    0    0]]\n",
      "----------------------------------------\n",
      "              precision    recall  f1-score   support\n",
      "\n",
      "           0       0.82      1.00      0.90      8625\n",
      "           1       0.00      0.00      0.00      1126\n",
      "           2       0.00      0.00      0.00       478\n",
      "           3       0.00      0.00      0.00       336\n",
      "\n",
      "    accuracy                           0.82     10565\n",
      "   macro avg       0.20      0.25      0.22     10565\n",
      "weighted avg       0.67      0.82      0.73     10565\n",
      "\n"
     ]
    },
    {
     "name": "stderr",
     "output_type": "stream",
     "text": [
      "C:\\Users\\Darren\\Anaconda3\\lib\\site-packages\\sklearn\\metrics\\classification.py:1437: UndefinedMetricWarning: Precision and F-score are ill-defined and being set to 0.0 in labels with no predicted samples.\n",
      "  'precision', 'predicted', average, warn_for)\n"
     ]
    }
   ],
   "source": [
    "nb = MultinomialNB()\n",
    "nb.fit(X_train, y_train)\n",
    "y_pred_class = nb.predict(X_test)\n",
    "print(\"y_pred: \", y_pred_class)\n",
    "print('-' * 40)\n",
    "print(\"accuracy: \", metrics.accuracy_score(y_test, y_pred_class))\n",
    "print('-' * 40)\n",
    "print(confusion_matrix(y_test, y_pred_class))\n",
    "print('-' * 40)\n",
    "print(classification_report(y_test, y_pred_class))"
   ]
  },
  {
   "cell_type": "markdown",
   "metadata": {},
   "source": [
    "### Oversampling"
   ]
  },
  {
   "cell_type": "code",
   "execution_count": 6,
   "metadata": {},
   "outputs": [
    {
     "name": "stdout",
     "output_type": "stream",
     "text": [
      "y_pred:  [2 0 0 ... 0 2 2]\n",
      "----------------------------------------\n",
      "accuracy:  0.36393752957879794\n",
      "----------------------------------------\n",
      "[[3548   18 4741  318]\n",
      " [ 393    3  667   63]\n",
      " [ 167    0  290   21]\n",
      " [ 152    2  178    4]]\n",
      "----------------------------------------\n",
      "              precision    recall  f1-score   support\n",
      "\n",
      "           0       0.83      0.41      0.55      8625\n",
      "           1       0.13      0.00      0.01      1126\n",
      "           2       0.05      0.61      0.09       478\n",
      "           3       0.01      0.01      0.01       336\n",
      "\n",
      "    accuracy                           0.36     10565\n",
      "   macro avg       0.26      0.26      0.16     10565\n",
      "weighted avg       0.70      0.36      0.45     10565\n",
      "\n"
     ]
    }
   ],
   "source": [
    "smt = SMOTE('not majority')\n",
    "X_train_over, y_train_over = smt.fit_sample(X_train, y_train)\n",
    "nb = MultinomialNB()\n",
    "nb.fit(X_train_over, y_train_over)\n",
    "y_pred_class = nb.predict(X_test)\n",
    "print(\"y_pred: \", y_pred_class)\n",
    "print('-' * 40)\n",
    "print(\"accuracy: \", accuracy_score(y_test, y_pred_class))\n",
    "print('-' * 40)\n",
    "print(confusion_matrix(y_test, y_pred_class))\n",
    "print('-' * 40)\n",
    "print(classification_report(y_test, y_pred_class))"
   ]
  },
  {
   "cell_type": "markdown",
   "metadata": {},
   "source": [
    "### Undersampling"
   ]
  },
  {
   "cell_type": "code",
   "execution_count": 7,
   "metadata": {},
   "outputs": [
    {
     "name": "stdout",
     "output_type": "stream",
     "text": [
      "y_pred:  [2 0 0 ... 0 2 2]\n",
      "----------------------------------------\n",
      "accuracy:  0.36393752957879794\n",
      "----------------------------------------\n",
      "[[3532   43 4750  300]\n",
      " [ 388   11  668   59]\n",
      " [ 165    5  290   18]\n",
      " [ 143    2  179   12]]\n",
      "----------------------------------------\n",
      "              precision    recall  f1-score   support\n",
      "\n",
      "           0       0.84      0.41      0.55      8625\n",
      "           1       0.18      0.01      0.02      1126\n",
      "           2       0.05      0.61      0.09       478\n",
      "           3       0.03      0.04      0.03       336\n",
      "\n",
      "    accuracy                           0.36     10565\n",
      "   macro avg       0.27      0.27      0.17     10565\n",
      "weighted avg       0.70      0.36      0.46     10565\n",
      "\n"
     ]
    }
   ],
   "source": [
    "rus = RandomUnderSampler()\n",
    "X_train_under, y_train_under = rus.fit_sample(X_train, y_train)\n",
    "nb = MultinomialNB()\n",
    "nb.fit(X_train_under, y_train_under)\n",
    "y_pred_class = nb.predict(X_test)\n",
    "print(\"y_pred: \", y_pred_class)\n",
    "print('-' * 40)\n",
    "print(\"accuracy: \", accuracy_score(y_test, y_pred_class))\n",
    "print('-' * 40)\n",
    "print(confusion_matrix(y_test, y_pred_class))\n",
    "print('-' * 40)\n",
    "print(classification_report(y_test, y_pred_class))"
   ]
  },
  {
   "cell_type": "markdown",
   "metadata": {},
   "source": [
    "## SVM"
   ]
  },
  {
   "cell_type": "markdown",
   "metadata": {},
   "source": [
    "### Finding Hyperparameters"
   ]
  },
  {
   "cell_type": "code",
   "execution_count": 8,
   "metadata": {},
   "outputs": [],
   "source": [
    "# def svc_param_selection(X, y, nfolds):\n",
    "#     Cs = [0.001, 0.01, 0.1, 1, 10]\n",
    "#     gammas = [0.001, 0.01, 0.1, 1]\n",
    "#     param_grid = {'kernel': ('linear', 'rbf','poly'), 'C': Cs, 'gamma' : gammas}\n",
    "#     grid_search = GridSearchCV(svm.SVC(), param_grid, cv=nfolds)\n",
    "#     grid_search.fit(X, y)\n",
    "#     grid_search.best_params_\n",
    "#     return grid_search.best_params_\n",
    "\n",
    "# print(svc_param_selection(X_train, y_train, 10))"
   ]
  },
  {
   "cell_type": "markdown",
   "metadata": {},
   "source": [
    "### SVM model"
   ]
  },
  {
   "cell_type": "code",
   "execution_count": 9,
   "metadata": {},
   "outputs": [
    {
     "name": "stdout",
     "output_type": "stream",
     "text": [
      "y_pred:  [0 0 0 ... 0 0 0]\n",
      "----------------------------------------\n",
      "accuracy:  0.8163748225272125\n",
      "----------------------------------------\n",
      "[[8625    0    0    0]\n",
      " [1126    0    0    0]\n",
      " [ 478    0    0    0]\n",
      " [ 336    0    0    0]]\n",
      "----------------------------------------\n",
      "              precision    recall  f1-score   support\n",
      "\n",
      "           0       0.82      1.00      0.90      8625\n",
      "           1       0.00      0.00      0.00      1126\n",
      "           2       0.00      0.00      0.00       478\n",
      "           3       0.00      0.00      0.00       336\n",
      "\n",
      "    accuracy                           0.82     10565\n",
      "   macro avg       0.20      0.25      0.22     10565\n",
      "weighted avg       0.67      0.82      0.73     10565\n",
      "\n"
     ]
    },
    {
     "name": "stderr",
     "output_type": "stream",
     "text": [
      "C:\\Users\\Darren\\Anaconda3\\lib\\site-packages\\sklearn\\metrics\\classification.py:1437: UndefinedMetricWarning: Precision and F-score are ill-defined and being set to 0.0 in labels with no predicted samples.\n",
      "  'precision', 'predicted', average, warn_for)\n"
     ]
    }
   ],
   "source": [
    "clf = SVC(gamma='auto')\n",
    "clf.fit(X_train, y_train)\n",
    "y_pred_class = clf.predict(X_test)\n",
    "print(\"y_pred: \", y_pred_class)\n",
    "print('-' * 40)\n",
    "print(\"accuracy: \", accuracy_score(y_test, y_pred_class))\n",
    "print('-' * 40)\n",
    "print(confusion_matrix(y_test, y_pred_class))\n",
    "print('-' * 40)\n",
    "print(classification_report(y_test, y_pred_class))"
   ]
  },
  {
   "cell_type": "markdown",
   "metadata": {},
   "source": [
    "### Oversampling"
   ]
  },
  {
   "cell_type": "code",
   "execution_count": 10,
   "metadata": {},
   "outputs": [
    {
     "name": "stdout",
     "output_type": "stream",
     "text": [
      "y_pred:  [2 0 0 ... 0 0 1]\n",
      "----------------------------------------\n",
      "accuracy:  0.30004732607666823\n",
      "----------------------------------------\n",
      "[[2497 2395 2123 1610]\n",
      " [ 245  404  300  177]\n",
      " [ 109  129  149   91]\n",
      " [  68   64   84  120]]\n",
      "----------------------------------------\n",
      "              precision    recall  f1-score   support\n",
      "\n",
      "           0       0.86      0.29      0.43      8625\n",
      "           1       0.14      0.36      0.20      1126\n",
      "           2       0.06      0.31      0.10       478\n",
      "           3       0.06      0.36      0.10       336\n",
      "\n",
      "    accuracy                           0.30     10565\n",
      "   macro avg       0.28      0.33      0.21     10565\n",
      "weighted avg       0.72      0.30      0.38     10565\n",
      "\n"
     ]
    }
   ],
   "source": [
    "smt = SMOTE('not majority')\n",
    "X_train_over, y_train_over = smt.fit_sample(X_train, y_train)\n",
    "clf = SVC(gamma='auto')\n",
    "clf.fit(X_train_over, y_train_over)\n",
    "y_pred_class = clf.predict(X_test)\n",
    "print(\"y_pred: \", y_pred_class)\n",
    "print('-' * 40)\n",
    "print(\"accuracy: \", accuracy_score(y_test, y_pred_class))\n",
    "print('-' * 40)\n",
    "print(confusion_matrix(y_test, y_pred_class))\n",
    "print('-' * 40)\n",
    "print(classification_report(y_test, y_pred_class))"
   ]
  },
  {
   "cell_type": "markdown",
   "metadata": {},
   "source": [
    "### Undersampling"
   ]
  },
  {
   "cell_type": "code",
   "execution_count": null,
   "metadata": {},
   "outputs": [],
   "source": [
    "rus = RandomUnderSampler()\n",
    "X_train_under, y_train_under = rus.fit_sample(X_train, y_train)\n",
    "clf = SVC(gamma='auto')\n",
    "clf.fit(X_train_over, y_train_over)\n",
    "y_pred_class = clf.predict(X_test)\n",
    "print(\"y_pred: \", y_pred_class)\n",
    "print('-' * 40)\n",
    "print(\"accuracy: \", accuracy_score(y_test, y_pred_class))\n",
    "print('-' * 40)\n",
    "print(confusion_matrix(y_test, y_pred_class))\n",
    "print('-' * 40)\n",
    "print(classification_report(y_test, y_pred_class))"
   ]
  },
  {
   "cell_type": "markdown",
   "metadata": {},
   "source": [
    "## Recursive Feature Elimination \n",
    "- Finding the optimal number of features"
   ]
  },
  {
   "cell_type": "code",
   "execution_count": null,
   "metadata": {},
   "outputs": [],
   "source": [
    "# col_names = ['Encoded procedure type', 'Encoded Target Country', 'Encoded Origin','HDI', \n",
    "#              'Unemployment rate', 'origin_to_target_dist']\n",
    "features = results[col_names]\n",
    "correlation_matrix = features.corr()"
   ]
  },
  {
   "cell_type": "code",
   "execution_count": null,
   "metadata": {},
   "outputs": [],
   "source": [
    "correlation_matrix"
   ]
  },
  {
   "cell_type": "code",
   "execution_count": null,
   "metadata": {},
   "outputs": [],
   "source": [
    "for i in range(len(correlation_matrix.columns)):\n",
    "    for j in range(i):\n",
    "        if abs(correlation_matrix.iloc[i, j]) > 0.8:\n",
    "            colname = correlation_matrix.columns[i]\n",
    "            correlated_features.add(colname)"
   ]
  },
  {
   "cell_type": "code",
   "execution_count": null,
   "metadata": {},
   "outputs": [],
   "source": [
    "X = features\n",
    "target = results['accepted/rejected']\n",
    "\n",
    "rfc = MultinomialNB()\n",
    "rfecv = RFECV(estimator=rfc, step=1, cv=StratifiedKFold(15), scoring='accuracy')\n",
    "rfecv.fit(X, target)"
   ]
  },
  {
   "cell_type": "code",
   "execution_count": null,
   "metadata": {},
   "outputs": [],
   "source": [
    "print('Optimal number of features: {}'.format(rfecv.n_features_))"
   ]
  }
 ],
 "metadata": {
  "kernelspec": {
   "display_name": "Python 3",
   "language": "python",
   "name": "python3"
  },
  "language_info": {
   "codemirror_mode": {
    "name": "ipython",
    "version": 3
   },
   "file_extension": ".py",
   "mimetype": "text/x-python",
   "name": "python",
   "nbconvert_exporter": "python",
   "pygments_lexer": "ipython3",
   "version": "3.7.3"
  }
 },
 "nbformat": 4,
 "nbformat_minor": 2
}
