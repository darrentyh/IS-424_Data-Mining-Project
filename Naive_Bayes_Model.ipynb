{
 "cells": [
  {
   "cell_type": "markdown",
   "metadata": {},
   "source": [
    "# Naive Bayes / SVM Classifier"
   ]
  },
  {
   "cell_type": "markdown",
   "metadata": {},
   "source": [
    "## Import data"
   ]
  },
  {
   "cell_type": "code",
   "execution_count": 1,
   "metadata": {},
   "outputs": [],
   "source": [
    "import pandas as pd \n",
    "import numpy as np\n",
    "import math\n",
    "import sklearn.metrics as metrics\n",
    "from sklearn.svm import SVC\n",
    "from sklearn import svm\n",
    "from sklearn.model_selection import GridSearchCV\n",
    "from sklearn.naive_bayes import GaussianNB\n",
    "from sklearn.metrics import accuracy_score\n",
    "from sklearn.naive_bayes import MultinomialNB\n",
    "from sklearn.model_selection import train_test_split\n",
    "from sklearn.metrics import classification_report, confusion_matrix\n",
    "from imblearn.over_sampling import SMOTE\n",
    "from sklearn.model_selection import StratifiedKFold\n",
    "from sklearn.feature_selection import RFE\n",
    "from sklearn.feature_selection import RFECV\n",
    "from imblearn.under_sampling import RandomUnderSampler"
   ]
  },
  {
   "cell_type": "code",
   "execution_count": 2,
   "metadata": {},
   "outputs": [
    {
     "name": "stderr",
     "output_type": "stream",
     "text": [
      "/Users/yuankanglee/anaconda3/lib/python3.7/site-packages/IPython/core/interactiveshell.py:3049: DtypeWarning: Columns (19) have mixed types. Specify dtype option on import or set low_memory=False.\n",
      "  interactivity=interactivity, compiler=compiler, result=result)\n"
     ]
    }
   ],
   "source": [
    "results = pd.read_csv('./cleaned_data/cleaned_asylum_seekers_added.csv')"
   ]
  },
  {
   "cell_type": "markdown",
   "metadata": {},
   "source": [
    "## Cleaning and Transformation"
   ]
  },
  {
   "cell_type": "code",
   "execution_count": 3,
   "metadata": {},
   "outputs": [],
   "source": [
    "# Log to transform data\n",
    "results['origin_to_target_dist'] = results[(results['origin_to_target_dist'] != 0)]\n",
    "results['log_origin_to_target_dist'] = results['origin_to_target_dist'].apply(lambda x: math.log(x))\n",
    "\n",
    "results['Unemployment rate'] = results[(results['Unemployment rate'] != 0)]\n",
    "results['log_Unemployment_rate'] = results['Unemployment rate'].apply(lambda x: math.log(x))\n",
    "\n",
    "# Combining features into a single variable\n",
    "results = results[results['HDI'] != '..']\n",
    "\n",
    "# Convert to float type\n",
    "results['HDI'] = results['HDI'].astype('float64')\n",
    "results = results.dropna()\n",
    "results['GDP_difference'] = results['GDP_difference'].abs() \n",
    "results['GDP_difference'] = results[(results['GDP_difference'] != 0)]\n",
    "results['log_GDP_difference'] = results['GDP_difference'].apply(lambda x: math.log(x))"
   ]
  },
  {
   "cell_type": "markdown",
   "metadata": {},
   "source": [
    "## Train Test Split"
   ]
  },
  {
   "cell_type": "code",
   "execution_count": 4,
   "metadata": {},
   "outputs": [],
   "source": [
    "# Declaring label\n",
    "label = results['accepted/rejected'] \n",
    "\n",
    "# col_names = ['HDI', 'log_GDP_difference', 'log_Unemployment_rate', 'log_origin_to_target_dist']\n",
    "col_names = ['HDI', 'Unemployment rate', 'log_origin_to_target_dist']\n",
    "\n",
    "features = results[col_names]\n",
    "\n",
    "X_train, X_test, y_train, y_test = train_test_split(features, label, test_size=0.10, stratify=label)"
   ]
  },
  {
   "cell_type": "markdown",
   "metadata": {},
   "source": [
    "## Multinomial Naive Bayes"
   ]
  },
  {
   "cell_type": "code",
   "execution_count": null,
   "metadata": {},
   "outputs": [],
   "source": [
    "nb = MultinomialNB()\n",
    "nb.fit(X_train, y_train)\n",
    "y_pred_class = nb.predict(X_test)\n",
    "print(\"y_pred: \", y_pred_class)\n",
    "print('-' * 40)\n",
    "print(\"accuracy: \", metrics.accuracy_score(y_test, y_pred_class))\n",
    "print('-' * 40)\n",
    "print(confusion_matrix(y_test, y_pred_class))\n",
    "print('-' * 40)\n",
    "print(classification_report(y_test, y_pred_class))"
   ]
  },
  {
   "cell_type": "markdown",
   "metadata": {},
   "source": [
    "### Oversampling"
   ]
  },
  {
   "cell_type": "code",
   "execution_count": null,
   "metadata": {},
   "outputs": [],
   "source": [
    "smt = SMOTE('not majority')\n",
    "X_train_over, y_train_over = smt.fit_sample(X_train, y_train)\n",
    "nb = MultinomialNB()\n",
    "nb.fit(X_train_over, y_train_over)\n",
    "y_pred_class = nb.predict(X_test)\n",
    "print(\"y_pred: \", y_pred_class)\n",
    "print('-' * 40)\n",
    "print(\"accuracy: \", accuracy_score(y_test, y_pred_class))\n",
    "print('-' * 40)\n",
    "print(confusion_matrix(y_test, y_pred_class))\n",
    "print('-' * 40)\n",
    "print(classification_report(y_test, y_pred_class))"
   ]
  },
  {
   "cell_type": "markdown",
   "metadata": {},
   "source": [
    "### Undersampling"
   ]
  },
  {
   "cell_type": "code",
   "execution_count": null,
   "metadata": {},
   "outputs": [],
   "source": [
    "rus = RandomUnderSampler()\n",
    "X_train_under, y_train_under = rus.fit_sample(X_train, y_train)\n",
    "nb = MultinomialNB()\n",
    "nb.fit(X_train_under, y_train_under)\n",
    "y_pred_class = nb.predict(X_test)\n",
    "print(\"y_pred: \", y_pred_class)\n",
    "print('-' * 40)\n",
    "print(\"accuracy: \", accuracy_score(y_test, y_pred_class))\n",
    "print('-' * 40)\n",
    "print(confusion_matrix(y_test, y_pred_class))\n",
    "print('-' * 40)\n",
    "print(classification_report(y_test, y_pred_class))"
   ]
  },
  {
   "cell_type": "markdown",
   "metadata": {},
   "source": [
    "## SVM"
   ]
  },
  {
   "cell_type": "markdown",
   "metadata": {},
   "source": [
    "### Finding Hyperparameters"
   ]
  },
  {
   "cell_type": "code",
   "execution_count": null,
   "metadata": {},
   "outputs": [],
   "source": [
    "def svc_param_selection(X, y, nfolds):\n",
    "    Cs = [0.001, 0.01, 0.1, 1, 10]\n",
    "    gammas = [0.001, 0.01, 0.1, 1]\n",
    "    param_grid = {'kernel': ('linear', 'rbf','poly'), 'C': Cs, 'gamma' : gammas}\n",
    "    grid_search = GridSearchCV(svm.SVC(), param_grid, cv=nfolds)\n",
    "    grid_search.fit(X, y)\n",
    "    grid_search.best_params_\n",
    "    return grid_search.best_params_\n",
    "\n",
    "print(svc_param_selection(X_train, y_train, 25))"
   ]
  },
  {
   "cell_type": "code",
   "execution_count": null,
   "metadata": {},
   "outputs": [],
   "source": [
    "# defining parameter range \n",
    "param_grid = {'C': [0.1, 1, 10, 100, 1000],  \n",
    "              'gamma': [1, 0.1, 0.01, 0.001, 0.0001], \n",
    "              'kernel': ['rbf', 'linear']}  \n",
    "  \n",
    "grid = GridSearchCV(SVC(), param_grid, refit = True, verbose = 3) \n",
    "  \n",
    "# fitting the model for grid search \n",
    "grid.fit(X_train, y_train) \n",
    "\n",
    "# print best parameter after tuning \n",
    "print(grid.best_params_) \n",
    "  \n",
    "# print how our model looks after hyper-parameter tuning \n",
    "print(grid.best_estimator_) "
   ]
  },
  {
   "cell_type": "code",
   "execution_count": null,
   "metadata": {},
   "outputs": [],
   "source": [
    "clf = SVC(gamma='auto')\n",
    "clf.fit(X_train, y_train)\n",
    "y_pred_class = clf.predict(X_test)\n",
    "print(\"y_pred: \", y_pred_class)\n",
    "print('-' * 40)\n",
    "print(\"accuracy: \", accuracy_score(y_test, y_pred_class))\n",
    "print('-' * 40)\n",
    "print(confusion_matrix(y_test, y_pred_class))\n",
    "print('-' * 40)\n",
    "print(classification_report(y_test, y_pred_class))"
   ]
  },
  {
   "cell_type": "markdown",
   "metadata": {},
   "source": [
    "### Oversampling"
   ]
  },
  {
   "cell_type": "code",
   "execution_count": null,
   "metadata": {},
   "outputs": [],
   "source": [
    "smt = SMOTE('not majority')\n",
    "X_train_over, y_train_over = smt.fit_sample(X_train, y_train)\n",
    "clf = SVC()\n",
    "clf.fit(X_train_over, y_train_over)\n",
    "y_pred_class = clf.predict(X_test)\n",
    "print(\"y_pred: \", y_pred_class)\n",
    "print('-' * 40)\n",
    "print(\"accuracy: \", accuracy_score(y_test, y_pred_class))\n",
    "print('-' * 40)\n",
    "print(confusion_matrix(y_test, y_pred_class))\n",
    "print('-' * 40)\n",
    "print(classification_report(y_test, y_pred_class))"
   ]
  },
  {
   "cell_type": "markdown",
   "metadata": {},
   "source": [
    "### Undersampling"
   ]
  },
  {
   "cell_type": "code",
   "execution_count": null,
   "metadata": {},
   "outputs": [],
   "source": [
    "rus = RandomUnderSampler()\n",
    "X_train_under, y_train_under = rus.fit_sample(X_train, y_train)\n",
    "clf = SVC()\n",
    "clf.fit(X_train_over, y_train_over)\n",
    "y_pred_class = clf.predict(X_test)\n",
    "print(\"y_pred: \", y_pred_class)\n",
    "print('-' * 40)\n",
    "print(\"accuracy: \", accuracy_score(y_test, y_pred_class))\n",
    "print('-' * 40)\n",
    "print(confusion_matrix(y_test, y_pred_class))\n",
    "print('-' * 40)\n",
    "print(classification_report(y_test, y_pred_class))"
   ]
  },
  {
   "cell_type": "markdown",
   "metadata": {},
   "source": [
    "## Recursive Feature Elimination \n",
    "- Finding the optimal number of features"
   ]
  },
  {
   "cell_type": "code",
   "execution_count": null,
   "metadata": {},
   "outputs": [],
   "source": [
    "# col_names = ['Encoded procedure type', 'Encoded Target Country', 'Encoded Origin','HDI', \n",
    "#              'Unemployment rate', 'origin_to_target_dist']\n",
    "features = results[col_names]\n",
    "correlation_matrix = features.corr()"
   ]
  },
  {
   "cell_type": "code",
   "execution_count": null,
   "metadata": {},
   "outputs": [],
   "source": [
    "correlation_matrix"
   ]
  },
  {
   "cell_type": "code",
   "execution_count": null,
   "metadata": {},
   "outputs": [],
   "source": [
    "for i in range(len(correlation_matrix.columns)):\n",
    "    for j in range(i):\n",
    "        if abs(correlation_matrix.iloc[i, j]) > 0.8:\n",
    "            colname = correlation_matrix.columns[i]\n",
    "            correlated_features.add(colname)"
   ]
  },
  {
   "cell_type": "code",
   "execution_count": null,
   "metadata": {},
   "outputs": [],
   "source": [
    "X = features\n",
    "target = results['accepted/rejected']\n",
    "\n",
    "rfc = MultinomialNB()\n",
    "rfecv = RFECV(estimator=rfc, step=1, cv=StratifiedKFold(15), scoring='accuracy')\n",
    "rfecv.fit(X, target)"
   ]
  },
  {
   "cell_type": "code",
   "execution_count": null,
   "metadata": {},
   "outputs": [],
   "source": [
    "print('Optimal number of features: {}'.format(rfecv.n_features_))"
   ]
  },
  {
   "cell_type": "markdown",
   "metadata": {},
   "source": [
    "## GaussianNB"
   ]
  },
  {
   "cell_type": "code",
   "execution_count": null,
   "metadata": {},
   "outputs": [],
   "source": [
    "# Declaring label\n",
    "label = results['accepted/rejected']\n",
    "\n",
    "# Combining features into a single variable\n",
    "results = results[results['HDI'] != '..']\n",
    "\n",
    "# Convert to float type\n",
    "results['HDI'] = results['HDI'].astype('float64')\n",
    "results = results.dropna()\n",
    "\n",
    "# Combining features into a single variable\n",
    "col_names = ['Encoded procedure type', 'Encoded Target Country', 'Encoded Origin', 'HDI', 'Unemployment rate',\n",
    "            'origin_to_target_dist']\n",
    "# features = results.iloc[:,-3:]\n",
    "features = results[col_names]\n",
    "\n",
    "# Train the model using the training sets\n",
    "X_train, X_test, y_train, y_test = train_test_split(features, label, test_size=0.20, random_state=42)\n",
    "\n",
    "# Creating a Gaussian Classifier\n",
    "classifier = GaussianNB()\n",
    "classifier.fit(X_train, y_train)\n",
    "y_pred = classifier.predict(X_test)\n",
    "print(\"y_pred\", y_pred)\n",
    "print(\"accuracy: \", metrics.accuracy_score(y_test, y_pred))"
   ]
  },
  {
   "cell_type": "code",
   "execution_count": null,
   "metadata": {},
   "outputs": [],
   "source": [
    "print(confusion_matrix(y_test, y_pred))\n",
    "print()\n",
    "print(classification_report(y_test, y_pred))"
   ]
  }
 ],
 "metadata": {
  "kernelspec": {
   "display_name": "Python 3",
   "language": "python",
   "name": "python3"
  },
  "language_info": {
   "codemirror_mode": {
    "name": "ipython",
    "version": 3
   },
   "file_extension": ".py",
   "mimetype": "text/x-python",
   "name": "python",
   "nbconvert_exporter": "python",
   "pygments_lexer": "ipython3",
   "version": "3.7.3"
  }
 },
 "nbformat": 4,
 "nbformat_minor": 2
}
