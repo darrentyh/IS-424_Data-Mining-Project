{
 "cells": [
  {
   "cell_type": "markdown",
   "metadata": {},
   "source": [
    "# Naive Bayes / SVM Classifier"
   ]
  },
  {
   "cell_type": "markdown",
   "metadata": {},
   "source": [
    "## Import data"
   ]
  },
  {
   "cell_type": "code",
   "execution_count": 1,
   "metadata": {},
   "outputs": [],
   "source": [
    "import pandas as pd \n",
    "import numpy as np\n",
    "import math\n",
    "import sklearn.metrics as metrics\n",
    "from sklearn.svm import SVC\n",
    "from sklearn import svm\n",
    "from sklearn.model_selection import GridSearchCV\n",
    "from sklearn.naive_bayes import GaussianNB\n",
    "from sklearn.metrics import accuracy_score\n",
    "from sklearn.naive_bayes import MultinomialNB\n",
    "from sklearn.model_selection import train_test_split\n",
    "from sklearn.metrics import classification_report, confusion_matrix\n",
    "from imblearn.over_sampling import SMOTE\n",
    "from sklearn.model_selection import StratifiedKFold\n",
    "from sklearn.feature_selection import RFE\n",
    "from sklearn.feature_selection import RFECV\n",
    "from imblearn.under_sampling import RandomUnderSampler"
   ]
  },
  {
   "cell_type": "code",
   "execution_count": 2,
   "metadata": {},
   "outputs": [
    {
     "name": "stderr",
     "output_type": "stream",
     "text": [
      "/Users/yuankanglee/anaconda3/lib/python3.7/site-packages/IPython/core/interactiveshell.py:3049: DtypeWarning: Columns (19) have mixed types. Specify dtype option on import or set low_memory=False.\n",
      "  interactivity=interactivity, compiler=compiler, result=result)\n"
     ]
    }
   ],
   "source": [
    "results = pd.read_csv('./cleaned_data/cleaned_asylum_seekers_added.csv')"
   ]
  },
  {
   "cell_type": "markdown",
   "metadata": {},
   "source": [
    "## Cleaning and Transformation"
   ]
  },
  {
   "cell_type": "code",
   "execution_count": 3,
   "metadata": {},
   "outputs": [],
   "source": [
    "# Log to transform data\n",
    "results['origin_to_target_dist'] = results[(results['origin_to_target_dist'] != 0)]\n",
    "results['log_origin_to_target_dist'] = results['origin_to_target_dist'].apply(lambda x: math.log(x))\n",
    "\n",
    "results['Unemployment rate'] = results[(results['Unemployment rate'] != 0)]\n",
    "results['log_Unemployment_rate'] = results['Unemployment rate'].apply(lambda x: math.log(x))\n",
    "\n",
    "# Combining features into a single variable\n",
    "results = results[results['HDI'] != '..']\n",
    "\n",
    "# Convert to float type\n",
    "results['HDI'] = results['HDI'].astype('float64')\n",
    "results = results.dropna()\n",
    "results['GDP_difference'] = results['GDP_difference'].abs() \n",
    "results['GDP_difference'] = results[(results['GDP_difference'] != 0)]\n",
    "results['log_GDP_difference'] = results['GDP_difference'].apply(lambda x: math.log(x))"
   ]
  },
  {
   "cell_type": "markdown",
   "metadata": {},
   "source": [
    "## Train Test Split"
   ]
  },
  {
   "cell_type": "code",
   "execution_count": 4,
   "metadata": {},
   "outputs": [],
   "source": [
    "# Declaring label\n",
    "label = results['accepted/rejected'] \n",
    "\n",
    "# col_names = ['HDI', 'log_GDP_difference', 'log_Unemployment_rate', 'log_origin_to_target_dist']\n",
    "col_names = ['Unemployment rate', 'log_origin_to_target_dist']\n",
    "\n",
    "features = results[col_names]\n",
    "\n",
    "X_train, X_test, y_train, y_test = train_test_split(features, label, test_size=0.10, stratify=label)"
   ]
  },
  {
   "cell_type": "markdown",
   "metadata": {},
   "source": [
    "## Multinomial Naive Bayes"
   ]
  },
  {
   "cell_type": "code",
   "execution_count": 5,
   "metadata": {},
   "outputs": [
    {
     "name": "stdout",
     "output_type": "stream",
     "text": [
      "y_pred:  [0 0 0 ... 0 0 0]\n",
      "----------------------------------------\n",
      "accuracy:  0.8166808189451835\n",
      "----------------------------------------\n",
      "[[8656    0    0    0]\n",
      " [1128    0    0    0]\n",
      " [ 478    0    0    0]\n",
      " [ 337    0    0    0]]\n",
      "----------------------------------------\n",
      "              precision    recall  f1-score   support\n",
      "\n",
      "           0       0.82      1.00      0.90      8656\n",
      "           1       0.00      0.00      0.00      1128\n",
      "           2       0.00      0.00      0.00       478\n",
      "           3       0.00      0.00      0.00       337\n",
      "\n",
      "    accuracy                           0.82     10599\n",
      "   macro avg       0.20      0.25      0.22     10599\n",
      "weighted avg       0.67      0.82      0.73     10599\n",
      "\n"
     ]
    },
    {
     "name": "stderr",
     "output_type": "stream",
     "text": [
      "/Users/yuankanglee/anaconda3/lib/python3.7/site-packages/sklearn/metrics/classification.py:1437: UndefinedMetricWarning: Precision and F-score are ill-defined and being set to 0.0 in labels with no predicted samples.\n",
      "  'precision', 'predicted', average, warn_for)\n"
     ]
    }
   ],
   "source": [
    "nb = MultinomialNB()\n",
    "nb.fit(X_train, y_train)\n",
    "y_pred_class = nb.predict(X_test)\n",
    "print(\"y_pred: \", y_pred_class)\n",
    "print('-' * 40)\n",
    "print(\"accuracy: \", metrics.accuracy_score(y_test, y_pred_class))\n",
    "print('-' * 40)\n",
    "print(confusion_matrix(y_test, y_pred_class))\n",
    "print('-' * 40)\n",
    "print(classification_report(y_test, y_pred_class))"
   ]
  },
  {
   "cell_type": "markdown",
   "metadata": {},
   "source": [
    "### Oversampling"
   ]
  },
  {
   "cell_type": "code",
   "execution_count": 6,
   "metadata": {},
   "outputs": [
    {
     "name": "stdout",
     "output_type": "stream",
     "text": [
      "y_pred:  [1 3 1 ... 1 0 0]\n",
      "----------------------------------------\n",
      "accuracy:  0.45409944334371166\n",
      "----------------------------------------\n",
      "[[4577  456    0 3623]\n",
      " [ 515   75    0  538]\n",
      " [ 237   35    0  206]\n",
      " [ 158   18    0  161]]\n",
      "----------------------------------------\n",
      "              precision    recall  f1-score   support\n",
      "\n",
      "           0       0.83      0.53      0.65      8656\n",
      "           1       0.13      0.07      0.09      1128\n",
      "           2       0.00      0.00      0.00       478\n",
      "           3       0.04      0.48      0.07       337\n",
      "\n",
      "    accuracy                           0.45     10599\n",
      "   macro avg       0.25      0.27      0.20     10599\n",
      "weighted avg       0.70      0.45      0.54     10599\n",
      "\n"
     ]
    },
    {
     "name": "stderr",
     "output_type": "stream",
     "text": [
      "/Users/yuankanglee/anaconda3/lib/python3.7/site-packages/sklearn/metrics/classification.py:1437: UndefinedMetricWarning: Precision and F-score are ill-defined and being set to 0.0 in labels with no predicted samples.\n",
      "  'precision', 'predicted', average, warn_for)\n"
     ]
    }
   ],
   "source": [
    "smt = SMOTE('not majority')\n",
    "X_train_over, y_train_over = smt.fit_sample(X_train, y_train)\n",
    "nb = MultinomialNB()\n",
    "nb.fit(X_train_over, y_train_over)\n",
    "y_pred_class = nb.predict(X_test)\n",
    "print(\"y_pred: \", y_pred_class)\n",
    "print('-' * 40)\n",
    "print(\"accuracy: \", accuracy_score(y_test, y_pred_class))\n",
    "print('-' * 40)\n",
    "print(confusion_matrix(y_test, y_pred_class))\n",
    "print('-' * 40)\n",
    "print(classification_report(y_test, y_pred_class))"
   ]
  },
  {
   "cell_type": "markdown",
   "metadata": {},
   "source": [
    "### Undersampling"
   ]
  },
  {
   "cell_type": "code",
   "execution_count": 7,
   "metadata": {},
   "outputs": [
    {
     "name": "stdout",
     "output_type": "stream",
     "text": [
      "y_pred:  [2 3 2 ... 2 0 0]\n",
      "----------------------------------------\n",
      "accuracy:  0.45032550240588737\n",
      "----------------------------------------\n",
      "[[4577    0  456 3623]\n",
      " [ 515    0   75  538]\n",
      " [ 237    0   35  206]\n",
      " [ 158    0   18  161]]\n",
      "----------------------------------------\n",
      "              precision    recall  f1-score   support\n",
      "\n",
      "           0       0.83      0.53      0.65      8656\n",
      "           1       0.00      0.00      0.00      1128\n",
      "           2       0.06      0.07      0.07       478\n",
      "           3       0.04      0.48      0.07       337\n",
      "\n",
      "    accuracy                           0.45     10599\n",
      "   macro avg       0.23      0.27      0.19     10599\n",
      "weighted avg       0.69      0.45      0.53     10599\n",
      "\n"
     ]
    },
    {
     "name": "stderr",
     "output_type": "stream",
     "text": [
      "/Users/yuankanglee/anaconda3/lib/python3.7/site-packages/sklearn/metrics/classification.py:1437: UndefinedMetricWarning: Precision and F-score are ill-defined and being set to 0.0 in labels with no predicted samples.\n",
      "  'precision', 'predicted', average, warn_for)\n"
     ]
    }
   ],
   "source": [
    "rus = RandomUnderSampler()\n",
    "X_train_under, y_train_under = rus.fit_sample(X_train, y_train)\n",
    "nb = MultinomialNB()\n",
    "nb.fit(X_train_under, y_train_under)\n",
    "y_pred_class = nb.predict(X_test)\n",
    "print(\"y_pred: \", y_pred_class)\n",
    "print('-' * 40)\n",
    "print(\"accuracy: \", accuracy_score(y_test, y_pred_class))\n",
    "print('-' * 40)\n",
    "print(confusion_matrix(y_test, y_pred_class))\n",
    "print('-' * 40)\n",
    "print(classification_report(y_test, y_pred_class))"
   ]
  },
  {
   "cell_type": "markdown",
   "metadata": {},
   "source": [
    "## SVM"
   ]
  },
  {
   "cell_type": "markdown",
   "metadata": {},
   "source": [
    "### Finding Hyperparameters"
   ]
  },
  {
   "cell_type": "code",
   "execution_count": 8,
   "metadata": {},
   "outputs": [],
   "source": [
    "# def svc_param_selection(X, y, nfolds):\n",
    "#     Cs = [0.001, 0.01, 0.1, 1, 10]\n",
    "#     gammas = [0.001, 0.01, 0.1, 1]\n",
    "#     param_grid = {'kernel': ('linear', 'rbf','poly'), 'C': Cs, 'gamma' : gammas}\n",
    "#     grid_search = GridSearchCV(svm.SVC(), param_grid, cv=nfolds)\n",
    "#     grid_search.fit(X, y)\n",
    "#     grid_search.best_params_\n",
    "#     return grid_search.best_params_\n",
    "\n",
    "# print(svc_param_selection(X_train, y_train, 10))"
   ]
  },
  {
   "cell_type": "markdown",
   "metadata": {},
   "source": [
    "### SVM model"
   ]
  },
  {
   "cell_type": "code",
   "execution_count": null,
   "metadata": {},
   "outputs": [
    {
     "name": "stdout",
     "output_type": "stream",
     "text": [
      "y_pred:  [0 0 0 ... 0 0 0]\n",
      "----------------------------------------\n",
      "accuracy:  0.8166808189451835\n",
      "----------------------------------------\n",
      "[[8656    0    0    0]\n",
      " [1128    0    0    0]\n",
      " [ 478    0    0    0]\n",
      " [ 337    0    0    0]]\n",
      "----------------------------------------\n",
      "              precision    recall  f1-score   support\n",
      "\n",
      "           0       0.82      1.00      0.90      8656\n",
      "           1       0.00      0.00      0.00      1128\n",
      "           2       0.00      0.00      0.00       478\n",
      "           3       0.00      0.00      0.00       337\n",
      "\n",
      "    accuracy                           0.82     10599\n",
      "   macro avg       0.20      0.25      0.22     10599\n",
      "weighted avg       0.67      0.82      0.73     10599\n",
      "\n"
     ]
    },
    {
     "name": "stderr",
     "output_type": "stream",
     "text": [
      "/Users/yuankanglee/anaconda3/lib/python3.7/site-packages/sklearn/metrics/classification.py:1437: UndefinedMetricWarning: Precision and F-score are ill-defined and being set to 0.0 in labels with no predicted samples.\n",
      "  'precision', 'predicted', average, warn_for)\n"
     ]
    }
   ],
   "source": [
    "clf = SVC(gamma='auto')\n",
    "clf.fit(X_train, y_train)\n",
    "y_pred_class = clf.predict(X_test)\n",
    "print(\"y_pred: \", y_pred_class)\n",
    "print('-' * 40)\n",
    "print(\"accuracy: \", accuracy_score(y_test, y_pred_class))\n",
    "print('-' * 40)\n",
    "print(confusion_matrix(y_test, y_pred_class))\n",
    "print('-' * 40)\n",
    "print(classification_report(y_test, y_pred_class))"
   ]
  },
  {
   "cell_type": "markdown",
   "metadata": {},
   "source": [
    "### Oversampling"
   ]
  },
  {
   "cell_type": "code",
   "execution_count": null,
   "metadata": {},
   "outputs": [],
   "source": [
    "smt = SMOTE('not majority')\n",
    "X_train_over, y_train_over = smt.fit_sample(X_train, y_train)\n",
    "clf = SVC(gamma='auto')\n",
    "clf.fit(X_train_over, y_train_over)\n",
    "y_pred_class = clf.predict(X_test)\n",
    "print(\"y_pred: \", y_pred_class)\n",
    "print('-' * 40)\n",
    "print(\"accuracy: \", accuracy_score(y_test, y_pred_class))\n",
    "print('-' * 40)\n",
    "print(confusion_matrix(y_test, y_pred_class))\n",
    "print('-' * 40)\n",
    "print(classification_report(y_test, y_pred_class))"
   ]
  },
  {
   "cell_type": "markdown",
   "metadata": {},
   "source": [
    "### Undersampling"
   ]
  },
  {
   "cell_type": "code",
   "execution_count": null,
   "metadata": {},
   "outputs": [],
   "source": [
    "rus = RandomUnderSampler()\n",
    "X_train_under, y_train_under = rus.fit_sample(X_train, y_train)\n",
    "clf = SVC(gamma='auto')\n",
    "clf.fit(X_train_over, y_train_over)\n",
    "y_pred_class = clf.predict(X_test)\n",
    "print(\"y_pred: \", y_pred_class)\n",
    "print('-' * 40)\n",
    "print(\"accuracy: \", accuracy_score(y_test, y_pred_class))\n",
    "print('-' * 40)\n",
    "print(confusion_matrix(y_test, y_pred_class))\n",
    "print('-' * 40)\n",
    "print(classification_report(y_test, y_pred_class))"
   ]
  },
  {
   "cell_type": "markdown",
   "metadata": {},
   "source": [
    "## Recursive Feature Elimination \n",
    "- Finding the optimal number of features"
   ]
  },
  {
   "cell_type": "code",
   "execution_count": null,
   "metadata": {},
   "outputs": [],
   "source": [
    "# col_names = ['Encoded procedure type', 'Encoded Target Country', 'Encoded Origin','HDI', \n",
    "#              'Unemployment rate', 'origin_to_target_dist']\n",
    "features = results[col_names]\n",
    "correlation_matrix = features.corr()"
   ]
  },
  {
   "cell_type": "code",
   "execution_count": null,
   "metadata": {},
   "outputs": [],
   "source": [
    "correlation_matrix"
   ]
  },
  {
   "cell_type": "code",
   "execution_count": null,
   "metadata": {},
   "outputs": [],
   "source": [
    "for i in range(len(correlation_matrix.columns)):\n",
    "    for j in range(i):\n",
    "        if abs(correlation_matrix.iloc[i, j]) > 0.8:\n",
    "            colname = correlation_matrix.columns[i]\n",
    "            correlated_features.add(colname)"
   ]
  },
  {
   "cell_type": "code",
   "execution_count": null,
   "metadata": {},
   "outputs": [],
   "source": [
    "X = features\n",
    "target = results['accepted/rejected']\n",
    "\n",
    "rfc = MultinomialNB()\n",
    "rfecv = RFECV(estimator=rfc, step=1, cv=StratifiedKFold(15), scoring='accuracy')\n",
    "rfecv.fit(X, target)"
   ]
  },
  {
   "cell_type": "code",
   "execution_count": null,
   "metadata": {},
   "outputs": [],
   "source": [
    "print('Optimal number of features: {}'.format(rfecv.n_features_))"
   ]
  }
 ],
 "metadata": {
  "kernelspec": {
   "display_name": "Python 3",
   "language": "python",
   "name": "python3"
  },
  "language_info": {
   "codemirror_mode": {
    "name": "ipython",
    "version": 3
   },
   "file_extension": ".py",
   "mimetype": "text/x-python",
   "name": "python",
   "nbconvert_exporter": "python",
   "pygments_lexer": "ipython3",
   "version": "3.7.3"
  }
 },
 "nbformat": 4,
 "nbformat_minor": 2
}
