{
 "cells": [
  {
   "cell_type": "code",
   "execution_count": 10,
   "metadata": {},
   "outputs": [],
   "source": [
    "# Load libraries\n",
    "import pandas as pd\n",
    "import numpy as np\n",
    "from sklearn.ensemble import RandomForestClassifier # Import Random Forest Classifier\n",
    "from sklearn.model_selection import train_test_split # Import train_test_split function\n",
    "from sklearn import metrics #Import scikit-learn metrics module for accuracy calculation"
   ]
  },
  {
   "cell_type": "code",
   "execution_count": 49,
   "metadata": {},
   "outputs": [
    {
     "name": "stderr",
     "output_type": "stream",
     "text": [
      "C:\\Users\\Darren\\Anaconda3\\lib\\site-packages\\IPython\\core\\interactiveshell.py:3058: DtypeWarning: Columns (19) have mixed types. Specify dtype option on import or set low_memory=False.\n",
      "  interactivity=interactivity, compiler=compiler, result=result)\n"
     ]
    },
    {
     "data": {
      "text/html": [
       "<div>\n",
       "<style scoped>\n",
       "    .dataframe tbody tr th:only-of-type {\n",
       "        vertical-align: middle;\n",
       "    }\n",
       "\n",
       "    .dataframe tbody tr th {\n",
       "        vertical-align: top;\n",
       "    }\n",
       "\n",
       "    .dataframe thead th {\n",
       "        text-align: right;\n",
       "    }\n",
       "</style>\n",
       "<table border=\"1\" class=\"dataframe\">\n",
       "  <thead>\n",
       "    <tr style=\"text-align: right;\">\n",
       "      <th></th>\n",
       "      <th>Year</th>\n",
       "      <th>Country / territory of asylum/residence</th>\n",
       "      <th>Origin</th>\n",
       "      <th>RSD procedure type / level</th>\n",
       "      <th>decisions_recognized</th>\n",
       "      <th>decisions_other</th>\n",
       "      <th>Rejected</th>\n",
       "      <th>Otherwise_closed</th>\n",
       "      <th>Total decisions</th>\n",
       "      <th>Successful</th>\n",
       "      <th>...</th>\n",
       "      <th>Origin_latitude</th>\n",
       "      <th>Origin_longitude</th>\n",
       "      <th>origin_to_target_dist</th>\n",
       "      <th>HDI</th>\n",
       "      <th>Unemployment rate</th>\n",
       "      <th>acceptance_rate</th>\n",
       "      <th>accepted/rejected</th>\n",
       "      <th>Encoded procedure type</th>\n",
       "      <th>Encoded Target Country</th>\n",
       "      <th>Encoded Origin</th>\n",
       "    </tr>\n",
       "  </thead>\n",
       "  <tbody>\n",
       "    <tr>\n",
       "      <td>0</td>\n",
       "      <td>2001</td>\n",
       "      <td>South Africa</td>\n",
       "      <td>Angola</td>\n",
       "      <td>G / AR</td>\n",
       "      <td>0.0</td>\n",
       "      <td>0.0</td>\n",
       "      <td>0.0</td>\n",
       "      <td>1.0</td>\n",
       "      <td>0.0</td>\n",
       "      <td>0.0</td>\n",
       "      <td>...</td>\n",
       "      <td>-14.270972</td>\n",
       "      <td>-170.132217</td>\n",
       "      <td>11214.77</td>\n",
       "      <td>0.61</td>\n",
       "      <td>30.9</td>\n",
       "      <td>0.0</td>\n",
       "      <td>0</td>\n",
       "      <td>1</td>\n",
       "      <td>135</td>\n",
       "      <td>3</td>\n",
       "    </tr>\n",
       "  </tbody>\n",
       "</table>\n",
       "<p>1 rows × 26 columns</p>\n",
       "</div>"
      ],
      "text/plain": [
       "   Year Country / territory of asylum/residence  Origin  \\\n",
       "0  2001                            South Africa  Angola   \n",
       "\n",
       "  RSD procedure type / level  decisions_recognized  decisions_other  Rejected  \\\n",
       "0                     G / AR                   0.0              0.0       0.0   \n",
       "\n",
       "   Otherwise_closed  Total decisions  Successful  ...  Origin_latitude  \\\n",
       "0               1.0              0.0         0.0  ...       -14.270972   \n",
       "\n",
       "   Origin_longitude  origin_to_target_dist   HDI  Unemployment rate  \\\n",
       "0       -170.132217               11214.77  0.61               30.9   \n",
       "\n",
       "   acceptance_rate  accepted/rejected  Encoded procedure type  \\\n",
       "0              0.0                  0                       1   \n",
       "\n",
       "   Encoded Target Country Encoded Origin  \n",
       "0                     135              3  \n",
       "\n",
       "[1 rows x 26 columns]"
      ]
     },
     "execution_count": 49,
     "metadata": {},
     "output_type": "execute_result"
    }
   ],
   "source": [
    "# Load the dataset\n",
    "data = pd.read_csv(\"cleaned_data/cleaned_asylum_seekers_added.csv\")\n",
    "\n",
    "# Drop records with '..' instead of numerical values\n",
    "data = data[data['HDI'] != '..']\n",
    "\n",
    "# remove null values\n",
    "data = data.dropna()\n",
    "\n",
    "decimals = 2    \n",
    "data['Unemployment rate'] = data['Unemployment rate'].apply(lambda x: round(x, decimals))\n",
    "data['origin_to_target_dist'] = data['origin_to_target_dist'].apply(lambda x: round(x, decimals))\n",
    "data.head(1)"
   ]
  },
  {
   "cell_type": "code",
   "execution_count": 50,
   "metadata": {},
   "outputs": [],
   "source": [
    "# 'Unemployment rate'\n",
    "# 'HDI'\n",
    "# 'Encoded Origin'\n",
    "\n",
    "col_names = ['Unemployment rate', 'origin_to_target_dist','Encoded Target Country', 'Encoded procedure type'] # Declare the columns names\n",
    "\n",
    "# Features \n",
    "features = data[col_names]\n",
    "\n",
    " # Target Variable\n",
    "class_label = data['accepted/rejected']"
   ]
  },
  {
   "cell_type": "code",
   "execution_count": 51,
   "metadata": {},
   "outputs": [],
   "source": [
    "# Split dataset into training set and test set\n",
    "x_train, x_test, y_train, y_test = train_test_split(features, class_label, test_size = 0.2, random_state = 1) # 80% training and 20% test"
   ]
  },
  {
   "cell_type": "code",
   "execution_count": 52,
   "metadata": {
    "scrolled": true
   },
   "outputs": [
    {
     "data": {
      "text/plain": [
       "RandomForestClassifier(bootstrap=True, class_weight=None, criterion='gini',\n",
       "                       max_depth=None, max_features='sqrt', max_leaf_nodes=None,\n",
       "                       min_impurity_decrease=0.0, min_impurity_split=None,\n",
       "                       min_samples_leaf=1, min_samples_split=2,\n",
       "                       min_weight_fraction_leaf=0.0, n_estimators=50,\n",
       "                       n_jobs=None, oob_score=False, random_state=None,\n",
       "                       verbose=0, warm_start=False)"
      ]
     },
     "execution_count": 52,
     "metadata": {},
     "output_type": "execute_result"
    }
   ],
   "source": [
    "# Create the model with 50 trees\n",
    "#max_features=sqrt(n_features) for classification tasks\n",
    "\n",
    "model = RandomForestClassifier(n_estimators = 50, \n",
    "                               bootstrap = True,\n",
    "                               max_features = 'sqrt')\n",
    "\n",
    "# Fit on training data\n",
    "model.fit(x_train, y_train)"
   ]
  },
  {
   "cell_type": "code",
   "execution_count": 53,
   "metadata": {},
   "outputs": [
    {
     "name": "stdout",
     "output_type": "stream",
     "text": [
      "Accuracy:  0.7935961043733921\n"
     ]
    }
   ],
   "source": [
    "from sklearn.metrics import accuracy_score\n",
    "\n",
    "y_predict = model.predict(x_test)\n",
    "print(\"Accuracy: \", accuracy_score(y_test, y_predict))"
   ]
  }
 ],
 "metadata": {
  "kernelspec": {
   "display_name": "Python 3",
   "language": "python",
   "name": "python3"
  },
  "language_info": {
   "codemirror_mode": {
    "name": "ipython",
    "version": 3
   },
   "file_extension": ".py",
   "mimetype": "text/x-python",
   "name": "python",
   "nbconvert_exporter": "python",
   "pygments_lexer": "ipython3",
   "version": "3.7.3"
  }
 },
 "nbformat": 4,
 "nbformat_minor": 2
}
